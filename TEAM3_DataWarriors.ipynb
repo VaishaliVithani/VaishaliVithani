{
 "cells": [
  {
   "cell_type": "markdown",
   "id": "768ee469",
   "metadata": {},
   "source": [
    "# Boston_city_Crime Data Analysis\n",
    "\n",
    "DATA: https://www.kaggle.com/AnalyzeBoston/crimes-in-boston"
   ]
  },
  {
   "cell_type": "markdown",
   "id": "c9866908",
   "metadata": {},
   "source": [
    "### import the useful libraries"
   ]
  },
  {
   "cell_type": "code",
   "execution_count": 1,
   "id": "61813338",
   "metadata": {},
   "outputs": [],
   "source": [
    "\n",
    "import numpy as np\n",
    "import pandas as pd\n",
    "import seaborn as sns\n",
    "import matplotlib.pyplot as plt\n",
    "%matplotlib inline"
   ]
  },
  {
   "cell_type": "markdown",
   "id": "e3469d7d",
   "metadata": {},
   "source": [
    "### Load the data"
   ]
  },
  {
   "cell_type": "code",
   "execution_count": 2,
   "id": "84218cb9",
   "metadata": {},
   "outputs": [],
   "source": [
    "df = pd.read_csv(r\"/Users/vaishali/Desktop/DAB-103/combined-csv-files.csv\",encoding='latin',low_memory=False)"
   ]
  },
  {
   "cell_type": "code",
   "execution_count": 3,
   "id": "7b31a4b9",
   "metadata": {},
   "outputs": [
    {
     "data": {
      "text/html": [
       "<div>\n",
       "<style scoped>\n",
       "    .dataframe tbody tr th:only-of-type {\n",
       "        vertical-align: middle;\n",
       "    }\n",
       "\n",
       "    .dataframe tbody tr th {\n",
       "        vertical-align: top;\n",
       "    }\n",
       "\n",
       "    .dataframe thead th {\n",
       "        text-align: right;\n",
       "    }\n",
       "</style>\n",
       "<table border=\"1\" class=\"dataframe\">\n",
       "  <thead>\n",
       "    <tr style=\"text-align: right;\">\n",
       "      <th></th>\n",
       "      <th>INCIDENT_NUMBER</th>\n",
       "      <th>OFFENSE_CODE</th>\n",
       "      <th>OFFENSE_CODE_GROUP</th>\n",
       "      <th>OFFENSE_DESCRIPTION</th>\n",
       "      <th>DISTRICT</th>\n",
       "      <th>REPORTING_AREA</th>\n",
       "      <th>SHOOTING</th>\n",
       "      <th>OCCURRED_ON_DATE</th>\n",
       "      <th>YEAR</th>\n",
       "      <th>MONTH</th>\n",
       "      <th>DAY_OF_WEEK</th>\n",
       "      <th>HOUR</th>\n",
       "      <th>UCR_PART</th>\n",
       "      <th>STREET</th>\n",
       "      <th>Lat</th>\n",
       "      <th>Long</th>\n",
       "      <th>Location</th>\n",
       "    </tr>\n",
       "  </thead>\n",
       "  <tbody>\n",
       "    <tr>\n",
       "      <th>0</th>\n",
       "      <td>I192074738</td>\n",
       "      <td>2629</td>\n",
       "      <td>Harassment</td>\n",
       "      <td>HARASSMENT</td>\n",
       "      <td>C11</td>\n",
       "      <td>240.0</td>\n",
       "      <td>NaN</td>\n",
       "      <td>42614</td>\n",
       "      <td>2016</td>\n",
       "      <td>9</td>\n",
       "      <td>Thursday</td>\n",
       "      <td>0</td>\n",
       "      <td>Part Two</td>\n",
       "      <td>CONRAD ST</td>\n",
       "      <td>42.318724</td>\n",
       "      <td>-71.062001</td>\n",
       "      <td>(42.31872369, -71.06200077)</td>\n",
       "    </tr>\n",
       "    <tr>\n",
       "      <th>1</th>\n",
       "      <td>I192073288</td>\n",
       "      <td>802</td>\n",
       "      <td>Simple Assault</td>\n",
       "      <td>ASSAULT SIMPLE - BATTERY</td>\n",
       "      <td>D14</td>\n",
       "      <td>760.0</td>\n",
       "      <td>NaN</td>\n",
       "      <td>42614.375</td>\n",
       "      <td>2016</td>\n",
       "      <td>9</td>\n",
       "      <td>Thursday</td>\n",
       "      <td>9</td>\n",
       "      <td>Part Two</td>\n",
       "      <td>BEECHCROFT ST</td>\n",
       "      <td>42.351673</td>\n",
       "      <td>-71.161152</td>\n",
       "      <td>(42.35167293, -71.16115206)</td>\n",
       "    </tr>\n",
       "    <tr>\n",
       "      <th>2</th>\n",
       "      <td>I192071326</td>\n",
       "      <td>619</td>\n",
       "      <td>Larceny</td>\n",
       "      <td>LARCENY ALL OTHERS</td>\n",
       "      <td>A1</td>\n",
       "      <td>113.0</td>\n",
       "      <td>NaN</td>\n",
       "      <td>42584</td>\n",
       "      <td>2016</td>\n",
       "      <td>8</td>\n",
       "      <td>Tuesday</td>\n",
       "      <td>0</td>\n",
       "      <td>Part One</td>\n",
       "      <td>HIGH ST</td>\n",
       "      <td>42.353448</td>\n",
       "      <td>-71.056581</td>\n",
       "      <td>(42.35344834, -71.05658072)</td>\n",
       "    </tr>\n",
       "    <tr>\n",
       "      <th>3</th>\n",
       "      <td>I192071326</td>\n",
       "      <td>1102</td>\n",
       "      <td>Fraud</td>\n",
       "      <td>FRAUD - FALSE PRETENSE / SCHEME</td>\n",
       "      <td>A1</td>\n",
       "      <td>113.0</td>\n",
       "      <td>NaN</td>\n",
       "      <td>42584</td>\n",
       "      <td>2016</td>\n",
       "      <td>8</td>\n",
       "      <td>Tuesday</td>\n",
       "      <td>0</td>\n",
       "      <td>Part Two</td>\n",
       "      <td>HIGH ST</td>\n",
       "      <td>42.353448</td>\n",
       "      <td>-71.056581</td>\n",
       "      <td>(42.35344834, -71.05658072)</td>\n",
       "    </tr>\n",
       "    <tr>\n",
       "      <th>4</th>\n",
       "      <td>I192071292</td>\n",
       "      <td>1107</td>\n",
       "      <td>Fraud</td>\n",
       "      <td>FRAUD - IMPERSONATION</td>\n",
       "      <td>B2</td>\n",
       "      <td>328.0</td>\n",
       "      <td>NaN</td>\n",
       "      <td>42619.54236</td>\n",
       "      <td>2016</td>\n",
       "      <td>9</td>\n",
       "      <td>Tuesday</td>\n",
       "      <td>13</td>\n",
       "      <td>Part Two</td>\n",
       "      <td>FERNBORO ST</td>\n",
       "      <td>42.311296</td>\n",
       "      <td>-71.077283</td>\n",
       "      <td>(42.31129587, -71.07728269)</td>\n",
       "    </tr>\n",
       "    <tr>\n",
       "      <th>...</th>\n",
       "      <td>...</td>\n",
       "      <td>...</td>\n",
       "      <td>...</td>\n",
       "      <td>...</td>\n",
       "      <td>...</td>\n",
       "      <td>...</td>\n",
       "      <td>...</td>\n",
       "      <td>...</td>\n",
       "      <td>...</td>\n",
       "      <td>...</td>\n",
       "      <td>...</td>\n",
       "      <td>...</td>\n",
       "      <td>...</td>\n",
       "      <td>...</td>\n",
       "      <td>...</td>\n",
       "      <td>...</td>\n",
       "      <td>...</td>\n",
       "    </tr>\n",
       "    <tr>\n",
       "      <th>450979</th>\n",
       "      <td>121005808</td>\n",
       "      <td>1102</td>\n",
       "      <td>NaN</td>\n",
       "      <td>FRAUD - FALSE PRETENSE / SCHEME</td>\n",
       "      <td>B3</td>\n",
       "      <td>289.0</td>\n",
       "      <td>0</td>\n",
       "      <td>1/19/2021 12:00</td>\n",
       "      <td>2021</td>\n",
       "      <td>1</td>\n",
       "      <td>Tuesday</td>\n",
       "      <td>12</td>\n",
       "      <td>NaN</td>\n",
       "      <td>CLARKWOOD ST</td>\n",
       "      <td>42.333679</td>\n",
       "      <td>-71.091878</td>\n",
       "      <td>(42.3336792181085, -71.0918775461846)</td>\n",
       "    </tr>\n",
       "    <tr>\n",
       "      <th>450980</th>\n",
       "      <td>121000816</td>\n",
       "      <td>3304</td>\n",
       "      <td>NaN</td>\n",
       "      <td>NOISY PARTY/RADIO-NO ARREST</td>\n",
       "      <td>E5</td>\n",
       "      <td>675.0</td>\n",
       "      <td>0</td>\n",
       "      <td>1/4/2021 0:00</td>\n",
       "      <td>2021</td>\n",
       "      <td>1</td>\n",
       "      <td>Monday</td>\n",
       "      <td>0</td>\n",
       "      <td>NaN</td>\n",
       "      <td>BRADFIELD AVENUE</td>\n",
       "      <td>0.000000</td>\n",
       "      <td>0.000000</td>\n",
       "      <td>(0, 0)</td>\n",
       "    </tr>\n",
       "    <tr>\n",
       "      <th>450981</th>\n",
       "      <td>120221042</td>\n",
       "      <td>3006</td>\n",
       "      <td>NaN</td>\n",
       "      <td>SICK/INJURED/MEDICAL - PERSON</td>\n",
       "      <td>E5</td>\n",
       "      <td>680.0</td>\n",
       "      <td>0</td>\n",
       "      <td>4/2/2021 10:45</td>\n",
       "      <td>2021</td>\n",
       "      <td>4</td>\n",
       "      <td>Friday</td>\n",
       "      <td>10</td>\n",
       "      <td>NaN</td>\n",
       "      <td>WASHINGTON ST</td>\n",
       "      <td>42.283902</td>\n",
       "      <td>-71.130863</td>\n",
       "      <td>(42.2839024364831, -71.130862626435)</td>\n",
       "    </tr>\n",
       "    <tr>\n",
       "      <th>450982</th>\n",
       "      <td>10637224</td>\n",
       "      <td>3125</td>\n",
       "      <td>NaN</td>\n",
       "      <td>WARRANT ARREST - BOSTON WARRANT (MUST BE SUPPL...</td>\n",
       "      <td>D4</td>\n",
       "      <td>270.0</td>\n",
       "      <td>0</td>\n",
       "      <td>1/26/2021 18:54</td>\n",
       "      <td>2021</td>\n",
       "      <td>1</td>\n",
       "      <td>Tuesday</td>\n",
       "      <td>18</td>\n",
       "      <td>NaN</td>\n",
       "      <td>NORTHAMPTON ST</td>\n",
       "      <td>42.333951</td>\n",
       "      <td>-71.075389</td>\n",
       "      <td>(42.3339512483938, -71.0753893882269)</td>\n",
       "    </tr>\n",
       "    <tr>\n",
       "      <th>450983</th>\n",
       "      <td>23844463</td>\n",
       "      <td>3115</td>\n",
       "      <td>NaN</td>\n",
       "      <td>INVESTIGATE PERSON</td>\n",
       "      <td>C6</td>\n",
       "      <td>NaN</td>\n",
       "      <td>0</td>\n",
       "      <td>10/16/2021 1:16</td>\n",
       "      <td>2021</td>\n",
       "      <td>10</td>\n",
       "      <td>Saturday</td>\n",
       "      <td>1</td>\n",
       "      <td>NaN</td>\n",
       "      <td>G ST &amp; E 8TH ST\\nBOSTON  MA 02127\\nUNITED STATES</td>\n",
       "      <td>42.331320</td>\n",
       "      <td>-71.044080</td>\n",
       "      <td>(42.3313200390092, -71.0440799616656)</td>\n",
       "    </tr>\n",
       "  </tbody>\n",
       "</table>\n",
       "<p>450984 rows × 17 columns</p>\n",
       "</div>"
      ],
      "text/plain": [
       "       INCIDENT_NUMBER  OFFENSE_CODE OFFENSE_CODE_GROUP  \\\n",
       "0           I192074738          2629         Harassment   \n",
       "1           I192073288           802     Simple Assault   \n",
       "2           I192071326           619            Larceny   \n",
       "3           I192071326          1102              Fraud   \n",
       "4           I192071292          1107              Fraud   \n",
       "...                ...           ...                ...   \n",
       "450979       121005808          1102                NaN   \n",
       "450980       121000816          3304                NaN   \n",
       "450981       120221042          3006                NaN   \n",
       "450982        10637224          3125                NaN   \n",
       "450983        23844463          3115                NaN   \n",
       "\n",
       "                                      OFFENSE_DESCRIPTION DISTRICT  \\\n",
       "0                                              HARASSMENT      C11   \n",
       "1                                ASSAULT SIMPLE - BATTERY      D14   \n",
       "2                                      LARCENY ALL OTHERS       A1   \n",
       "3                         FRAUD - FALSE PRETENSE / SCHEME       A1   \n",
       "4                                   FRAUD - IMPERSONATION       B2   \n",
       "...                                                   ...      ...   \n",
       "450979                    FRAUD - FALSE PRETENSE / SCHEME       B3   \n",
       "450980                        NOISY PARTY/RADIO-NO ARREST       E5   \n",
       "450981                      SICK/INJURED/MEDICAL - PERSON       E5   \n",
       "450982  WARRANT ARREST - BOSTON WARRANT (MUST BE SUPPL...       D4   \n",
       "450983                                 INVESTIGATE PERSON       C6   \n",
       "\n",
       "        REPORTING_AREA SHOOTING OCCURRED_ON_DATE  YEAR  MONTH DAY_OF_WEEK  \\\n",
       "0                240.0      NaN            42614  2016      9    Thursday   \n",
       "1                760.0      NaN        42614.375  2016      9    Thursday   \n",
       "2                113.0      NaN            42584  2016      8     Tuesday   \n",
       "3                113.0      NaN            42584  2016      8     Tuesday   \n",
       "4                328.0      NaN      42619.54236  2016      9     Tuesday   \n",
       "...                ...      ...              ...   ...    ...         ...   \n",
       "450979           289.0        0  1/19/2021 12:00  2021      1     Tuesday   \n",
       "450980           675.0        0    1/4/2021 0:00  2021      1      Monday   \n",
       "450981           680.0        0   4/2/2021 10:45  2021      4      Friday   \n",
       "450982           270.0        0  1/26/2021 18:54  2021      1     Tuesday   \n",
       "450983             NaN        0  10/16/2021 1:16  2021     10    Saturday   \n",
       "\n",
       "        HOUR  UCR_PART                                            STREET  \\\n",
       "0          0  Part Two                                         CONRAD ST   \n",
       "1          9  Part Two                                     BEECHCROFT ST   \n",
       "2          0  Part One                                           HIGH ST   \n",
       "3          0  Part Two                                           HIGH ST   \n",
       "4         13  Part Two                                       FERNBORO ST   \n",
       "...      ...       ...                                               ...   \n",
       "450979    12       NaN                                      CLARKWOOD ST   \n",
       "450980     0       NaN                                  BRADFIELD AVENUE   \n",
       "450981    10       NaN                                     WASHINGTON ST   \n",
       "450982    18       NaN                                    NORTHAMPTON ST   \n",
       "450983     1       NaN  G ST & E 8TH ST\\nBOSTON  MA 02127\\nUNITED STATES   \n",
       "\n",
       "              Lat       Long                               Location  \n",
       "0       42.318724 -71.062001            (42.31872369, -71.06200077)  \n",
       "1       42.351673 -71.161152            (42.35167293, -71.16115206)  \n",
       "2       42.353448 -71.056581            (42.35344834, -71.05658072)  \n",
       "3       42.353448 -71.056581            (42.35344834, -71.05658072)  \n",
       "4       42.311296 -71.077283            (42.31129587, -71.07728269)  \n",
       "...           ...        ...                                    ...  \n",
       "450979  42.333679 -71.091878  (42.3336792181085, -71.0918775461846)  \n",
       "450980   0.000000   0.000000                                 (0, 0)  \n",
       "450981  42.283902 -71.130863   (42.2839024364831, -71.130862626435)  \n",
       "450982  42.333951 -71.075389  (42.3339512483938, -71.0753893882269)  \n",
       "450983  42.331320 -71.044080  (42.3313200390092, -71.0440799616656)  \n",
       "\n",
       "[450984 rows x 17 columns]"
      ]
     },
     "execution_count": 3,
     "metadata": {},
     "output_type": "execute_result"
    }
   ],
   "source": [
    "df"
   ]
  },
  {
   "cell_type": "markdown",
   "id": "7162ff56",
   "metadata": {},
   "source": [
    "### understanding the data"
   ]
  },
  {
   "cell_type": "code",
   "execution_count": 5,
   "id": "8fa89bfa",
   "metadata": {},
   "outputs": [
    {
     "data": {
      "text/html": [
       "<div>\n",
       "<style scoped>\n",
       "    .dataframe tbody tr th:only-of-type {\n",
       "        vertical-align: middle;\n",
       "    }\n",
       "\n",
       "    .dataframe tbody tr th {\n",
       "        vertical-align: top;\n",
       "    }\n",
       "\n",
       "    .dataframe thead th {\n",
       "        text-align: right;\n",
       "    }\n",
       "</style>\n",
       "<table border=\"1\" class=\"dataframe\">\n",
       "  <thead>\n",
       "    <tr style=\"text-align: right;\">\n",
       "      <th></th>\n",
       "      <th>INCIDENT_NUMBER</th>\n",
       "      <th>OFFENSE_CODE</th>\n",
       "      <th>OFFENSE_CODE_GROUP</th>\n",
       "      <th>OFFENSE_DESCRIPTION</th>\n",
       "      <th>DISTRICT</th>\n",
       "      <th>REPORTING_AREA</th>\n",
       "      <th>SHOOTING</th>\n",
       "      <th>OCCURRED_ON_DATE</th>\n",
       "      <th>YEAR</th>\n",
       "      <th>MONTH</th>\n",
       "      <th>DAY_OF_WEEK</th>\n",
       "      <th>HOUR</th>\n",
       "      <th>UCR_PART</th>\n",
       "      <th>STREET</th>\n",
       "      <th>Lat</th>\n",
       "      <th>Long</th>\n",
       "      <th>Location</th>\n",
       "    </tr>\n",
       "  </thead>\n",
       "  <tbody>\n",
       "    <tr>\n",
       "      <th>0</th>\n",
       "      <td>I192074738</td>\n",
       "      <td>2629</td>\n",
       "      <td>Harassment</td>\n",
       "      <td>HARASSMENT</td>\n",
       "      <td>C11</td>\n",
       "      <td>240.0</td>\n",
       "      <td>NaN</td>\n",
       "      <td>42614</td>\n",
       "      <td>2016</td>\n",
       "      <td>9</td>\n",
       "      <td>Thursday</td>\n",
       "      <td>0</td>\n",
       "      <td>Part Two</td>\n",
       "      <td>CONRAD ST</td>\n",
       "      <td>42.318724</td>\n",
       "      <td>-71.062001</td>\n",
       "      <td>(42.31872369, -71.06200077)</td>\n",
       "    </tr>\n",
       "    <tr>\n",
       "      <th>1</th>\n",
       "      <td>I192073288</td>\n",
       "      <td>802</td>\n",
       "      <td>Simple Assault</td>\n",
       "      <td>ASSAULT SIMPLE - BATTERY</td>\n",
       "      <td>D14</td>\n",
       "      <td>760.0</td>\n",
       "      <td>NaN</td>\n",
       "      <td>42614.375</td>\n",
       "      <td>2016</td>\n",
       "      <td>9</td>\n",
       "      <td>Thursday</td>\n",
       "      <td>9</td>\n",
       "      <td>Part Two</td>\n",
       "      <td>BEECHCROFT ST</td>\n",
       "      <td>42.351673</td>\n",
       "      <td>-71.161152</td>\n",
       "      <td>(42.35167293, -71.16115206)</td>\n",
       "    </tr>\n",
       "    <tr>\n",
       "      <th>2</th>\n",
       "      <td>I192071326</td>\n",
       "      <td>619</td>\n",
       "      <td>Larceny</td>\n",
       "      <td>LARCENY ALL OTHERS</td>\n",
       "      <td>A1</td>\n",
       "      <td>113.0</td>\n",
       "      <td>NaN</td>\n",
       "      <td>42584</td>\n",
       "      <td>2016</td>\n",
       "      <td>8</td>\n",
       "      <td>Tuesday</td>\n",
       "      <td>0</td>\n",
       "      <td>Part One</td>\n",
       "      <td>HIGH ST</td>\n",
       "      <td>42.353448</td>\n",
       "      <td>-71.056581</td>\n",
       "      <td>(42.35344834, -71.05658072)</td>\n",
       "    </tr>\n",
       "    <tr>\n",
       "      <th>3</th>\n",
       "      <td>I192071326</td>\n",
       "      <td>1102</td>\n",
       "      <td>Fraud</td>\n",
       "      <td>FRAUD - FALSE PRETENSE / SCHEME</td>\n",
       "      <td>A1</td>\n",
       "      <td>113.0</td>\n",
       "      <td>NaN</td>\n",
       "      <td>42584</td>\n",
       "      <td>2016</td>\n",
       "      <td>8</td>\n",
       "      <td>Tuesday</td>\n",
       "      <td>0</td>\n",
       "      <td>Part Two</td>\n",
       "      <td>HIGH ST</td>\n",
       "      <td>42.353448</td>\n",
       "      <td>-71.056581</td>\n",
       "      <td>(42.35344834, -71.05658072)</td>\n",
       "    </tr>\n",
       "    <tr>\n",
       "      <th>4</th>\n",
       "      <td>I192071292</td>\n",
       "      <td>1107</td>\n",
       "      <td>Fraud</td>\n",
       "      <td>FRAUD - IMPERSONATION</td>\n",
       "      <td>B2</td>\n",
       "      <td>328.0</td>\n",
       "      <td>NaN</td>\n",
       "      <td>42619.54236</td>\n",
       "      <td>2016</td>\n",
       "      <td>9</td>\n",
       "      <td>Tuesday</td>\n",
       "      <td>13</td>\n",
       "      <td>Part Two</td>\n",
       "      <td>FERNBORO ST</td>\n",
       "      <td>42.311296</td>\n",
       "      <td>-71.077283</td>\n",
       "      <td>(42.31129587, -71.07728269)</td>\n",
       "    </tr>\n",
       "  </tbody>\n",
       "</table>\n",
       "</div>"
      ],
      "text/plain": [
       "  INCIDENT_NUMBER  OFFENSE_CODE OFFENSE_CODE_GROUP  \\\n",
       "0      I192074738          2629         Harassment   \n",
       "1      I192073288           802     Simple Assault   \n",
       "2      I192071326           619            Larceny   \n",
       "3      I192071326          1102              Fraud   \n",
       "4      I192071292          1107              Fraud   \n",
       "\n",
       "               OFFENSE_DESCRIPTION DISTRICT  REPORTING_AREA SHOOTING  \\\n",
       "0                       HARASSMENT      C11           240.0      NaN   \n",
       "1         ASSAULT SIMPLE - BATTERY      D14           760.0      NaN   \n",
       "2               LARCENY ALL OTHERS       A1           113.0      NaN   \n",
       "3  FRAUD - FALSE PRETENSE / SCHEME       A1           113.0      NaN   \n",
       "4            FRAUD - IMPERSONATION       B2           328.0      NaN   \n",
       "\n",
       "  OCCURRED_ON_DATE  YEAR  MONTH DAY_OF_WEEK  HOUR  UCR_PART         STREET  \\\n",
       "0            42614  2016      9    Thursday     0  Part Two      CONRAD ST   \n",
       "1        42614.375  2016      9    Thursday     9  Part Two  BEECHCROFT ST   \n",
       "2            42584  2016      8     Tuesday     0  Part One        HIGH ST   \n",
       "3            42584  2016      8     Tuesday     0  Part Two        HIGH ST   \n",
       "4      42619.54236  2016      9     Tuesday    13  Part Two    FERNBORO ST   \n",
       "\n",
       "         Lat       Long                     Location  \n",
       "0  42.318724 -71.062001  (42.31872369, -71.06200077)  \n",
       "1  42.351673 -71.161152  (42.35167293, -71.16115206)  \n",
       "2  42.353448 -71.056581  (42.35344834, -71.05658072)  \n",
       "3  42.353448 -71.056581  (42.35344834, -71.05658072)  \n",
       "4  42.311296 -71.077283  (42.31129587, -71.07728269)  "
      ]
     },
     "execution_count": 5,
     "metadata": {},
     "output_type": "execute_result"
    }
   ],
   "source": [
    "df.head()"
   ]
  },
  {
   "cell_type": "code",
   "execution_count": 6,
   "id": "6a58c003",
   "metadata": {},
   "outputs": [
    {
     "data": {
      "text/html": [
       "<div>\n",
       "<style scoped>\n",
       "    .dataframe tbody tr th:only-of-type {\n",
       "        vertical-align: middle;\n",
       "    }\n",
       "\n",
       "    .dataframe tbody tr th {\n",
       "        vertical-align: top;\n",
       "    }\n",
       "\n",
       "    .dataframe thead th {\n",
       "        text-align: right;\n",
       "    }\n",
       "</style>\n",
       "<table border=\"1\" class=\"dataframe\">\n",
       "  <thead>\n",
       "    <tr style=\"text-align: right;\">\n",
       "      <th></th>\n",
       "      <th>INCIDENT_NUMBER</th>\n",
       "      <th>OFFENSE_CODE</th>\n",
       "      <th>OFFENSE_CODE_GROUP</th>\n",
       "      <th>OFFENSE_DESCRIPTION</th>\n",
       "      <th>DISTRICT</th>\n",
       "      <th>REPORTING_AREA</th>\n",
       "      <th>SHOOTING</th>\n",
       "      <th>OCCURRED_ON_DATE</th>\n",
       "      <th>YEAR</th>\n",
       "      <th>MONTH</th>\n",
       "      <th>DAY_OF_WEEK</th>\n",
       "      <th>HOUR</th>\n",
       "      <th>UCR_PART</th>\n",
       "      <th>STREET</th>\n",
       "      <th>Lat</th>\n",
       "      <th>Long</th>\n",
       "      <th>Location</th>\n",
       "    </tr>\n",
       "  </thead>\n",
       "  <tbody>\n",
       "    <tr>\n",
       "      <th>450979</th>\n",
       "      <td>121005808</td>\n",
       "      <td>1102</td>\n",
       "      <td>NaN</td>\n",
       "      <td>FRAUD - FALSE PRETENSE / SCHEME</td>\n",
       "      <td>B3</td>\n",
       "      <td>289.0</td>\n",
       "      <td>0</td>\n",
       "      <td>1/19/2021 12:00</td>\n",
       "      <td>2021</td>\n",
       "      <td>1</td>\n",
       "      <td>Tuesday</td>\n",
       "      <td>12</td>\n",
       "      <td>NaN</td>\n",
       "      <td>CLARKWOOD ST</td>\n",
       "      <td>42.333679</td>\n",
       "      <td>-71.091878</td>\n",
       "      <td>(42.3336792181085, -71.0918775461846)</td>\n",
       "    </tr>\n",
       "    <tr>\n",
       "      <th>450980</th>\n",
       "      <td>121000816</td>\n",
       "      <td>3304</td>\n",
       "      <td>NaN</td>\n",
       "      <td>NOISY PARTY/RADIO-NO ARREST</td>\n",
       "      <td>E5</td>\n",
       "      <td>675.0</td>\n",
       "      <td>0</td>\n",
       "      <td>1/4/2021 0:00</td>\n",
       "      <td>2021</td>\n",
       "      <td>1</td>\n",
       "      <td>Monday</td>\n",
       "      <td>0</td>\n",
       "      <td>NaN</td>\n",
       "      <td>BRADFIELD AVENUE</td>\n",
       "      <td>0.000000</td>\n",
       "      <td>0.000000</td>\n",
       "      <td>(0, 0)</td>\n",
       "    </tr>\n",
       "    <tr>\n",
       "      <th>450981</th>\n",
       "      <td>120221042</td>\n",
       "      <td>3006</td>\n",
       "      <td>NaN</td>\n",
       "      <td>SICK/INJURED/MEDICAL - PERSON</td>\n",
       "      <td>E5</td>\n",
       "      <td>680.0</td>\n",
       "      <td>0</td>\n",
       "      <td>4/2/2021 10:45</td>\n",
       "      <td>2021</td>\n",
       "      <td>4</td>\n",
       "      <td>Friday</td>\n",
       "      <td>10</td>\n",
       "      <td>NaN</td>\n",
       "      <td>WASHINGTON ST</td>\n",
       "      <td>42.283902</td>\n",
       "      <td>-71.130863</td>\n",
       "      <td>(42.2839024364831, -71.130862626435)</td>\n",
       "    </tr>\n",
       "    <tr>\n",
       "      <th>450982</th>\n",
       "      <td>10637224</td>\n",
       "      <td>3125</td>\n",
       "      <td>NaN</td>\n",
       "      <td>WARRANT ARREST - BOSTON WARRANT (MUST BE SUPPL...</td>\n",
       "      <td>D4</td>\n",
       "      <td>270.0</td>\n",
       "      <td>0</td>\n",
       "      <td>1/26/2021 18:54</td>\n",
       "      <td>2021</td>\n",
       "      <td>1</td>\n",
       "      <td>Tuesday</td>\n",
       "      <td>18</td>\n",
       "      <td>NaN</td>\n",
       "      <td>NORTHAMPTON ST</td>\n",
       "      <td>42.333951</td>\n",
       "      <td>-71.075389</td>\n",
       "      <td>(42.3339512483938, -71.0753893882269)</td>\n",
       "    </tr>\n",
       "    <tr>\n",
       "      <th>450983</th>\n",
       "      <td>23844463</td>\n",
       "      <td>3115</td>\n",
       "      <td>NaN</td>\n",
       "      <td>INVESTIGATE PERSON</td>\n",
       "      <td>C6</td>\n",
       "      <td>NaN</td>\n",
       "      <td>0</td>\n",
       "      <td>10/16/2021 1:16</td>\n",
       "      <td>2021</td>\n",
       "      <td>10</td>\n",
       "      <td>Saturday</td>\n",
       "      <td>1</td>\n",
       "      <td>NaN</td>\n",
       "      <td>G ST &amp; E 8TH ST\\nBOSTON  MA 02127\\nUNITED STATES</td>\n",
       "      <td>42.331320</td>\n",
       "      <td>-71.044080</td>\n",
       "      <td>(42.3313200390092, -71.0440799616656)</td>\n",
       "    </tr>\n",
       "  </tbody>\n",
       "</table>\n",
       "</div>"
      ],
      "text/plain": [
       "       INCIDENT_NUMBER  OFFENSE_CODE OFFENSE_CODE_GROUP  \\\n",
       "450979       121005808          1102                NaN   \n",
       "450980       121000816          3304                NaN   \n",
       "450981       120221042          3006                NaN   \n",
       "450982        10637224          3125                NaN   \n",
       "450983        23844463          3115                NaN   \n",
       "\n",
       "                                      OFFENSE_DESCRIPTION DISTRICT  \\\n",
       "450979                    FRAUD - FALSE PRETENSE / SCHEME       B3   \n",
       "450980                        NOISY PARTY/RADIO-NO ARREST       E5   \n",
       "450981                      SICK/INJURED/MEDICAL - PERSON       E5   \n",
       "450982  WARRANT ARREST - BOSTON WARRANT (MUST BE SUPPL...       D4   \n",
       "450983                                 INVESTIGATE PERSON       C6   \n",
       "\n",
       "        REPORTING_AREA SHOOTING OCCURRED_ON_DATE  YEAR  MONTH DAY_OF_WEEK  \\\n",
       "450979           289.0        0  1/19/2021 12:00  2021      1     Tuesday   \n",
       "450980           675.0        0    1/4/2021 0:00  2021      1      Monday   \n",
       "450981           680.0        0   4/2/2021 10:45  2021      4      Friday   \n",
       "450982           270.0        0  1/26/2021 18:54  2021      1     Tuesday   \n",
       "450983             NaN        0  10/16/2021 1:16  2021     10    Saturday   \n",
       "\n",
       "        HOUR UCR_PART                                            STREET  \\\n",
       "450979    12      NaN                                      CLARKWOOD ST   \n",
       "450980     0      NaN                                  BRADFIELD AVENUE   \n",
       "450981    10      NaN                                     WASHINGTON ST   \n",
       "450982    18      NaN                                    NORTHAMPTON ST   \n",
       "450983     1      NaN  G ST & E 8TH ST\\nBOSTON  MA 02127\\nUNITED STATES   \n",
       "\n",
       "              Lat       Long                               Location  \n",
       "450979  42.333679 -71.091878  (42.3336792181085, -71.0918775461846)  \n",
       "450980   0.000000   0.000000                                 (0, 0)  \n",
       "450981  42.283902 -71.130863   (42.2839024364831, -71.130862626435)  \n",
       "450982  42.333951 -71.075389  (42.3339512483938, -71.0753893882269)  \n",
       "450983  42.331320 -71.044080  (42.3313200390092, -71.0440799616656)  "
      ]
     },
     "execution_count": 6,
     "metadata": {},
     "output_type": "execute_result"
    }
   ],
   "source": [
    "df.tail()"
   ]
  },
  {
   "cell_type": "code",
   "execution_count": 7,
   "id": "479ded22",
   "metadata": {},
   "outputs": [
    {
     "data": {
      "text/plain": [
       "(450984, 17)"
      ]
     },
     "execution_count": 7,
     "metadata": {},
     "output_type": "execute_result"
    }
   ],
   "source": [
    "df.shape"
   ]
  },
  {
   "cell_type": "code",
   "execution_count": 8,
   "id": "2f812ca2",
   "metadata": {},
   "outputs": [
    {
     "data": {
      "text/html": [
       "<div>\n",
       "<style scoped>\n",
       "    .dataframe tbody tr th:only-of-type {\n",
       "        vertical-align: middle;\n",
       "    }\n",
       "\n",
       "    .dataframe tbody tr th {\n",
       "        vertical-align: top;\n",
       "    }\n",
       "\n",
       "    .dataframe thead th {\n",
       "        text-align: right;\n",
       "    }\n",
       "</style>\n",
       "<table border=\"1\" class=\"dataframe\">\n",
       "  <thead>\n",
       "    <tr style=\"text-align: right;\">\n",
       "      <th></th>\n",
       "      <th>OFFENSE_CODE</th>\n",
       "      <th>REPORTING_AREA</th>\n",
       "      <th>YEAR</th>\n",
       "      <th>MONTH</th>\n",
       "      <th>HOUR</th>\n",
       "      <th>Lat</th>\n",
       "      <th>Long</th>\n",
       "    </tr>\n",
       "  </thead>\n",
       "  <tbody>\n",
       "    <tr>\n",
       "      <th>count</th>\n",
       "      <td>450984.000000</td>\n",
       "      <td>410077.000000</td>\n",
       "      <td>450984.000000</td>\n",
       "      <td>450984.000000</td>\n",
       "      <td>450984.000000</td>\n",
       "      <td>430582.000000</td>\n",
       "      <td>4.305820e+05</td>\n",
       "    </tr>\n",
       "    <tr>\n",
       "      <th>mean</th>\n",
       "      <td>2346.372051</td>\n",
       "      <td>383.155405</td>\n",
       "      <td>2018.096074</td>\n",
       "      <td>6.655050</td>\n",
       "      <td>13.011586</td>\n",
       "      <td>41.794461</td>\n",
       "      <td>-7.020191e+01</td>\n",
       "    </tr>\n",
       "    <tr>\n",
       "      <th>std</th>\n",
       "      <td>1194.838880</td>\n",
       "      <td>241.151653</td>\n",
       "      <td>1.726391</td>\n",
       "      <td>3.383111</td>\n",
       "      <td>6.327958</td>\n",
       "      <td>4.704894</td>\n",
       "      <td>7.857814e+00</td>\n",
       "    </tr>\n",
       "    <tr>\n",
       "      <th>min</th>\n",
       "      <td>111.000000</td>\n",
       "      <td>0.000000</td>\n",
       "      <td>2016.000000</td>\n",
       "      <td>1.000000</td>\n",
       "      <td>0.000000</td>\n",
       "      <td>-1.000000</td>\n",
       "      <td>-7.117867e+01</td>\n",
       "    </tr>\n",
       "    <tr>\n",
       "      <th>25%</th>\n",
       "      <td>1102.000000</td>\n",
       "      <td>178.000000</td>\n",
       "      <td>2017.000000</td>\n",
       "      <td>4.000000</td>\n",
       "      <td>9.000000</td>\n",
       "      <td>42.296419</td>\n",
       "      <td>-7.109744e+01</td>\n",
       "    </tr>\n",
       "    <tr>\n",
       "      <th>50%</th>\n",
       "      <td>3005.000000</td>\n",
       "      <td>347.000000</td>\n",
       "      <td>2018.000000</td>\n",
       "      <td>7.000000</td>\n",
       "      <td>14.000000</td>\n",
       "      <td>42.325528</td>\n",
       "      <td>-7.107720e+01</td>\n",
       "    </tr>\n",
       "    <tr>\n",
       "      <th>75%</th>\n",
       "      <td>3201.000000</td>\n",
       "      <td>542.000000</td>\n",
       "      <td>2020.000000</td>\n",
       "      <td>10.000000</td>\n",
       "      <td>18.000000</td>\n",
       "      <td>42.348406</td>\n",
       "      <td>-7.106150e+01</td>\n",
       "    </tr>\n",
       "    <tr>\n",
       "      <th>max</th>\n",
       "      <td>99999.000000</td>\n",
       "      <td>962.000000</td>\n",
       "      <td>2021.000000</td>\n",
       "      <td>12.000000</td>\n",
       "      <td>23.000000</td>\n",
       "      <td>42.395042</td>\n",
       "      <td>5.250000e-08</td>\n",
       "    </tr>\n",
       "  </tbody>\n",
       "</table>\n",
       "</div>"
      ],
      "text/plain": [
       "        OFFENSE_CODE  REPORTING_AREA           YEAR          MONTH  \\\n",
       "count  450984.000000   410077.000000  450984.000000  450984.000000   \n",
       "mean     2346.372051      383.155405    2018.096074       6.655050   \n",
       "std      1194.838880      241.151653       1.726391       3.383111   \n",
       "min       111.000000        0.000000    2016.000000       1.000000   \n",
       "25%      1102.000000      178.000000    2017.000000       4.000000   \n",
       "50%      3005.000000      347.000000    2018.000000       7.000000   \n",
       "75%      3201.000000      542.000000    2020.000000      10.000000   \n",
       "max     99999.000000      962.000000    2021.000000      12.000000   \n",
       "\n",
       "                HOUR            Lat          Long  \n",
       "count  450984.000000  430582.000000  4.305820e+05  \n",
       "mean       13.011586      41.794461 -7.020191e+01  \n",
       "std         6.327958       4.704894  7.857814e+00  \n",
       "min         0.000000      -1.000000 -7.117867e+01  \n",
       "25%         9.000000      42.296419 -7.109744e+01  \n",
       "50%        14.000000      42.325528 -7.107720e+01  \n",
       "75%        18.000000      42.348406 -7.106150e+01  \n",
       "max        23.000000      42.395042  5.250000e-08  "
      ]
     },
     "execution_count": 8,
     "metadata": {},
     "output_type": "execute_result"
    }
   ],
   "source": [
    "df.describe()"
   ]
  },
  {
   "cell_type": "code",
   "execution_count": 9,
   "id": "1416dff7",
   "metadata": {},
   "outputs": [
    {
     "data": {
      "text/plain": [
       "Index(['INCIDENT_NUMBER', 'OFFENSE_CODE', 'OFFENSE_CODE_GROUP',\n",
       "       'OFFENSE_DESCRIPTION', 'DISTRICT', 'REPORTING_AREA', 'SHOOTING',\n",
       "       'OCCURRED_ON_DATE', 'YEAR', 'MONTH', 'DAY_OF_WEEK', 'HOUR', 'UCR_PART',\n",
       "       'STREET', 'Lat', 'Long', 'Location'],\n",
       "      dtype='object')"
      ]
     },
     "execution_count": 9,
     "metadata": {},
     "output_type": "execute_result"
    }
   ],
   "source": [
    "df.columns"
   ]
  },
  {
   "cell_type": "code",
   "execution_count": 10,
   "id": "a54891a9",
   "metadata": {},
   "outputs": [
    {
     "data": {
      "text/plain": [
       "INCIDENT_NUMBER        415540\n",
       "OFFENSE_CODE              231\n",
       "OFFENSE_CODE_GROUP         67\n",
       "OFFENSE_DESCRIPTION       269\n",
       "DISTRICT                   13\n",
       "REPORTING_AREA            879\n",
       "SHOOTING                    3\n",
       "OCCURRED_ON_DATE       340804\n",
       "YEAR                        6\n",
       "MONTH                      12\n",
       "DAY_OF_WEEK                 7\n",
       "HOUR                       24\n",
       "UCR_PART                    4\n",
       "STREET                  13613\n",
       "Lat                     24729\n",
       "Long                    24223\n",
       "Location                34254\n",
       "dtype: int64"
      ]
     },
     "execution_count": 10,
     "metadata": {},
     "output_type": "execute_result"
    }
   ],
   "source": [
    "df.nunique()"
   ]
  },
  {
   "cell_type": "code",
   "execution_count": 11,
   "id": "eba90e8b",
   "metadata": {},
   "outputs": [
    {
     "data": {
      "text/plain": [
       "array(['Harassment', 'Simple Assault', 'Larceny', 'Fraud',\n",
       "       'Confidence Games', 'Investigate Person', 'Counterfeiting',\n",
       "       'Violations', 'Residential Burglary', 'Aggravated Assault',\n",
       "       'Property Lost', 'Vandalism', 'Investigate Property',\n",
       "       'Embezzlement', 'Assembly or Gathering Violations',\n",
       "       'Police Service Incidents', 'Other', 'Missing Person Located',\n",
       "       'Missing Person Reported', 'Larceny From Motor Vehicle',\n",
       "       'Property Related Damage', 'Firearm Violations', 'Warrant Arrests',\n",
       "       'License Plate Related Incidents', 'Medical Assistance',\n",
       "       'Auto Theft', 'Ballistics', 'HOME INVASION',\n",
       "       'Restraining Order Violations', 'Criminal Harassment',\n",
       "       'Verbal Disputes', 'Property Found', 'Robbery',\n",
       "       'Motor Vehicle Accident Response', 'Disorderly Conduct',\n",
       "       'Other Burglary', 'Towed', 'Auto Theft Recovery',\n",
       "       'Commercial Burglary', 'License Violation', 'Fire Related Reports',\n",
       "       'Drug Violation', 'Landlord/Tenant Disputes', 'Search Warrants',\n",
       "       'Evading Fare', 'Recovered Stolen Property', 'Firearm Discovery',\n",
       "       'Offenses Against Child / Family', 'Liquor Violation',\n",
       "       'Operating Under the Influence', 'Service', 'Homicide',\n",
       "       'Harbor Related Incidents', 'Arson', 'Prisoner Related Incidents',\n",
       "       'Aircraft', 'Bomb Hoax', 'Prostitution', 'Manslaughter',\n",
       "       'Explosives', 'HUMAN TRAFFICKING', 'Phone Call Complaints',\n",
       "       'HUMAN TRAFFICKING - INVOLUNTARY SERVITUDE',\n",
       "       'Burglary - No Property Taken', 'INVESTIGATE PERSON',\n",
       "       'Biological Threat', 'Gambling', nan], dtype=object)"
      ]
     },
     "execution_count": 11,
     "metadata": {},
     "output_type": "execute_result"
    }
   ],
   "source": [
    "df['OFFENSE_CODE_GROUP'].unique()"
   ]
  },
  {
   "cell_type": "code",
   "execution_count": 12,
   "id": "dd17ecb0",
   "metadata": {},
   "outputs": [
    {
     "data": {
      "text/html": [
       "<div>\n",
       "<style scoped>\n",
       "    .dataframe tbody tr th:only-of-type {\n",
       "        vertical-align: middle;\n",
       "    }\n",
       "\n",
       "    .dataframe tbody tr th {\n",
       "        vertical-align: top;\n",
       "    }\n",
       "\n",
       "    .dataframe thead th {\n",
       "        text-align: right;\n",
       "    }\n",
       "</style>\n",
       "<table border=\"1\" class=\"dataframe\">\n",
       "  <thead>\n",
       "    <tr style=\"text-align: right;\">\n",
       "      <th></th>\n",
       "      <th>INCIDENT_NUMBER</th>\n",
       "      <th>OFFENSE_CODE</th>\n",
       "      <th>OFFENSE_CODE_GROUP</th>\n",
       "      <th>OFFENSE_DESCRIPTION</th>\n",
       "      <th>DISTRICT</th>\n",
       "      <th>REPORTING_AREA</th>\n",
       "      <th>SHOOTING</th>\n",
       "      <th>OCCURRED_ON_DATE</th>\n",
       "      <th>YEAR</th>\n",
       "      <th>MONTH</th>\n",
       "      <th>DAY_OF_WEEK</th>\n",
       "      <th>HOUR</th>\n",
       "      <th>UCR_PART</th>\n",
       "      <th>STREET</th>\n",
       "      <th>Lat</th>\n",
       "      <th>Long</th>\n",
       "      <th>Location</th>\n",
       "    </tr>\n",
       "  </thead>\n",
       "  <tbody>\n",
       "    <tr>\n",
       "      <th>0</th>\n",
       "      <td>False</td>\n",
       "      <td>False</td>\n",
       "      <td>False</td>\n",
       "      <td>False</td>\n",
       "      <td>False</td>\n",
       "      <td>False</td>\n",
       "      <td>True</td>\n",
       "      <td>False</td>\n",
       "      <td>False</td>\n",
       "      <td>False</td>\n",
       "      <td>False</td>\n",
       "      <td>False</td>\n",
       "      <td>False</td>\n",
       "      <td>False</td>\n",
       "      <td>False</td>\n",
       "      <td>False</td>\n",
       "      <td>False</td>\n",
       "    </tr>\n",
       "    <tr>\n",
       "      <th>1</th>\n",
       "      <td>False</td>\n",
       "      <td>False</td>\n",
       "      <td>False</td>\n",
       "      <td>False</td>\n",
       "      <td>False</td>\n",
       "      <td>False</td>\n",
       "      <td>True</td>\n",
       "      <td>False</td>\n",
       "      <td>False</td>\n",
       "      <td>False</td>\n",
       "      <td>False</td>\n",
       "      <td>False</td>\n",
       "      <td>False</td>\n",
       "      <td>False</td>\n",
       "      <td>False</td>\n",
       "      <td>False</td>\n",
       "      <td>False</td>\n",
       "    </tr>\n",
       "    <tr>\n",
       "      <th>2</th>\n",
       "      <td>False</td>\n",
       "      <td>False</td>\n",
       "      <td>False</td>\n",
       "      <td>False</td>\n",
       "      <td>False</td>\n",
       "      <td>False</td>\n",
       "      <td>True</td>\n",
       "      <td>False</td>\n",
       "      <td>False</td>\n",
       "      <td>False</td>\n",
       "      <td>False</td>\n",
       "      <td>False</td>\n",
       "      <td>False</td>\n",
       "      <td>False</td>\n",
       "      <td>False</td>\n",
       "      <td>False</td>\n",
       "      <td>False</td>\n",
       "    </tr>\n",
       "    <tr>\n",
       "      <th>3</th>\n",
       "      <td>False</td>\n",
       "      <td>False</td>\n",
       "      <td>False</td>\n",
       "      <td>False</td>\n",
       "      <td>False</td>\n",
       "      <td>False</td>\n",
       "      <td>True</td>\n",
       "      <td>False</td>\n",
       "      <td>False</td>\n",
       "      <td>False</td>\n",
       "      <td>False</td>\n",
       "      <td>False</td>\n",
       "      <td>False</td>\n",
       "      <td>False</td>\n",
       "      <td>False</td>\n",
       "      <td>False</td>\n",
       "      <td>False</td>\n",
       "    </tr>\n",
       "    <tr>\n",
       "      <th>4</th>\n",
       "      <td>False</td>\n",
       "      <td>False</td>\n",
       "      <td>False</td>\n",
       "      <td>False</td>\n",
       "      <td>False</td>\n",
       "      <td>False</td>\n",
       "      <td>True</td>\n",
       "      <td>False</td>\n",
       "      <td>False</td>\n",
       "      <td>False</td>\n",
       "      <td>False</td>\n",
       "      <td>False</td>\n",
       "      <td>False</td>\n",
       "      <td>False</td>\n",
       "      <td>False</td>\n",
       "      <td>False</td>\n",
       "      <td>False</td>\n",
       "    </tr>\n",
       "    <tr>\n",
       "      <th>...</th>\n",
       "      <td>...</td>\n",
       "      <td>...</td>\n",
       "      <td>...</td>\n",
       "      <td>...</td>\n",
       "      <td>...</td>\n",
       "      <td>...</td>\n",
       "      <td>...</td>\n",
       "      <td>...</td>\n",
       "      <td>...</td>\n",
       "      <td>...</td>\n",
       "      <td>...</td>\n",
       "      <td>...</td>\n",
       "      <td>...</td>\n",
       "      <td>...</td>\n",
       "      <td>...</td>\n",
       "      <td>...</td>\n",
       "      <td>...</td>\n",
       "    </tr>\n",
       "    <tr>\n",
       "      <th>450979</th>\n",
       "      <td>False</td>\n",
       "      <td>False</td>\n",
       "      <td>True</td>\n",
       "      <td>False</td>\n",
       "      <td>False</td>\n",
       "      <td>False</td>\n",
       "      <td>False</td>\n",
       "      <td>False</td>\n",
       "      <td>False</td>\n",
       "      <td>False</td>\n",
       "      <td>False</td>\n",
       "      <td>False</td>\n",
       "      <td>True</td>\n",
       "      <td>False</td>\n",
       "      <td>False</td>\n",
       "      <td>False</td>\n",
       "      <td>False</td>\n",
       "    </tr>\n",
       "    <tr>\n",
       "      <th>450980</th>\n",
       "      <td>False</td>\n",
       "      <td>False</td>\n",
       "      <td>True</td>\n",
       "      <td>False</td>\n",
       "      <td>False</td>\n",
       "      <td>False</td>\n",
       "      <td>False</td>\n",
       "      <td>False</td>\n",
       "      <td>False</td>\n",
       "      <td>False</td>\n",
       "      <td>False</td>\n",
       "      <td>False</td>\n",
       "      <td>True</td>\n",
       "      <td>False</td>\n",
       "      <td>False</td>\n",
       "      <td>False</td>\n",
       "      <td>False</td>\n",
       "    </tr>\n",
       "    <tr>\n",
       "      <th>450981</th>\n",
       "      <td>False</td>\n",
       "      <td>False</td>\n",
       "      <td>True</td>\n",
       "      <td>False</td>\n",
       "      <td>False</td>\n",
       "      <td>False</td>\n",
       "      <td>False</td>\n",
       "      <td>False</td>\n",
       "      <td>False</td>\n",
       "      <td>False</td>\n",
       "      <td>False</td>\n",
       "      <td>False</td>\n",
       "      <td>True</td>\n",
       "      <td>False</td>\n",
       "      <td>False</td>\n",
       "      <td>False</td>\n",
       "      <td>False</td>\n",
       "    </tr>\n",
       "    <tr>\n",
       "      <th>450982</th>\n",
       "      <td>False</td>\n",
       "      <td>False</td>\n",
       "      <td>True</td>\n",
       "      <td>False</td>\n",
       "      <td>False</td>\n",
       "      <td>False</td>\n",
       "      <td>False</td>\n",
       "      <td>False</td>\n",
       "      <td>False</td>\n",
       "      <td>False</td>\n",
       "      <td>False</td>\n",
       "      <td>False</td>\n",
       "      <td>True</td>\n",
       "      <td>False</td>\n",
       "      <td>False</td>\n",
       "      <td>False</td>\n",
       "      <td>False</td>\n",
       "    </tr>\n",
       "    <tr>\n",
       "      <th>450983</th>\n",
       "      <td>False</td>\n",
       "      <td>False</td>\n",
       "      <td>True</td>\n",
       "      <td>False</td>\n",
       "      <td>False</td>\n",
       "      <td>True</td>\n",
       "      <td>False</td>\n",
       "      <td>False</td>\n",
       "      <td>False</td>\n",
       "      <td>False</td>\n",
       "      <td>False</td>\n",
       "      <td>False</td>\n",
       "      <td>True</td>\n",
       "      <td>False</td>\n",
       "      <td>False</td>\n",
       "      <td>False</td>\n",
       "      <td>False</td>\n",
       "    </tr>\n",
       "  </tbody>\n",
       "</table>\n",
       "<p>450984 rows × 17 columns</p>\n",
       "</div>"
      ],
      "text/plain": [
       "        INCIDENT_NUMBER  OFFENSE_CODE  OFFENSE_CODE_GROUP  \\\n",
       "0                 False         False               False   \n",
       "1                 False         False               False   \n",
       "2                 False         False               False   \n",
       "3                 False         False               False   \n",
       "4                 False         False               False   \n",
       "...                 ...           ...                 ...   \n",
       "450979            False         False                True   \n",
       "450980            False         False                True   \n",
       "450981            False         False                True   \n",
       "450982            False         False                True   \n",
       "450983            False         False                True   \n",
       "\n",
       "        OFFENSE_DESCRIPTION  DISTRICT  REPORTING_AREA  SHOOTING  \\\n",
       "0                     False     False           False      True   \n",
       "1                     False     False           False      True   \n",
       "2                     False     False           False      True   \n",
       "3                     False     False           False      True   \n",
       "4                     False     False           False      True   \n",
       "...                     ...       ...             ...       ...   \n",
       "450979                False     False           False     False   \n",
       "450980                False     False           False     False   \n",
       "450981                False     False           False     False   \n",
       "450982                False     False           False     False   \n",
       "450983                False     False            True     False   \n",
       "\n",
       "        OCCURRED_ON_DATE   YEAR  MONTH  DAY_OF_WEEK   HOUR  UCR_PART  STREET  \\\n",
       "0                  False  False  False        False  False     False   False   \n",
       "1                  False  False  False        False  False     False   False   \n",
       "2                  False  False  False        False  False     False   False   \n",
       "3                  False  False  False        False  False     False   False   \n",
       "4                  False  False  False        False  False     False   False   \n",
       "...                  ...    ...    ...          ...    ...       ...     ...   \n",
       "450979             False  False  False        False  False      True   False   \n",
       "450980             False  False  False        False  False      True   False   \n",
       "450981             False  False  False        False  False      True   False   \n",
       "450982             False  False  False        False  False      True   False   \n",
       "450983             False  False  False        False  False      True   False   \n",
       "\n",
       "          Lat   Long  Location  \n",
       "0       False  False     False  \n",
       "1       False  False     False  \n",
       "2       False  False     False  \n",
       "3       False  False     False  \n",
       "4       False  False     False  \n",
       "...       ...    ...       ...  \n",
       "450979  False  False     False  \n",
       "450980  False  False     False  \n",
       "450981  False  False     False  \n",
       "450982  False  False     False  \n",
       "450983  False  False     False  \n",
       "\n",
       "[450984 rows x 17 columns]"
      ]
     },
     "execution_count": 12,
     "metadata": {},
     "output_type": "execute_result"
    }
   ],
   "source": [
    "df.isnull()"
   ]
  },
  {
   "cell_type": "code",
   "execution_count": 13,
   "id": "f05f1e41",
   "metadata": {},
   "outputs": [
    {
     "data": {
      "text/plain": [
       "INCIDENT_NUMBER             2\n",
       "OFFENSE_CODE                0\n",
       "OFFENSE_CODE_GROUP     151328\n",
       "OFFENSE_DESCRIPTION         0\n",
       "DISTRICT                 3021\n",
       "REPORTING_AREA          40907\n",
       "SHOOTING               298452\n",
       "OCCURRED_ON_DATE            0\n",
       "YEAR                        0\n",
       "MONTH                       0\n",
       "DAY_OF_WEEK                 0\n",
       "HOUR                        0\n",
       "UCR_PART               151423\n",
       "STREET                  10614\n",
       "Lat                     20402\n",
       "Long                    20402\n",
       "Location                    0\n",
       "dtype: int64"
      ]
     },
     "execution_count": 13,
     "metadata": {},
     "output_type": "execute_result"
    }
   ],
   "source": [
    "df.isnull().sum()"
   ]
  },
  {
   "cell_type": "code",
   "execution_count": 14,
   "id": "7da4f8cb",
   "metadata": {},
   "outputs": [
    {
     "data": {
      "text/plain": [
       "False"
      ]
     },
     "execution_count": 14,
     "metadata": {},
     "output_type": "execute_result"
    }
   ],
   "source": [
    "df['INCIDENT_NUMBER'].is_unique"
   ]
  },
  {
   "cell_type": "code",
   "execution_count": 15,
   "id": "884ec296",
   "metadata": {},
   "outputs": [],
   "source": [
    "index=(df[df['OFFENSE_CODE_GROUP'].isnull()==True].index.values)"
   ]
  },
  {
   "cell_type": "code",
   "execution_count": 16,
   "id": "6e66727f",
   "metadata": {},
   "outputs": [
    {
     "data": {
      "text/plain": [
       "array([299656, 299657, 299658, ..., 450981, 450982, 450983])"
      ]
     },
     "execution_count": 16,
     "metadata": {},
     "output_type": "execute_result"
    }
   ],
   "source": [
    "index"
   ]
  },
  {
   "cell_type": "code",
   "execution_count": 18,
   "id": "e25e6376",
   "metadata": {},
   "outputs": [
    {
     "data": {
      "text/plain": [
       "array([], dtype=int64)"
      ]
     },
     "execution_count": 18,
     "metadata": {},
     "output_type": "execute_result"
    }
   ],
   "source": [
    "df['OFFENSE_CODE_GROUP'].fillna(\"N/A\",inplace=True)\n",
    "index=(df[df['OFFENSE_CODE_GROUP'].isnull()==True].index.values)\n",
    "index"
   ]
  },
  {
   "cell_type": "code",
   "execution_count": 19,
   "id": "43648295",
   "metadata": {},
   "outputs": [
    {
     "data": {
      "text/html": [
       "<div>\n",
       "<style scoped>\n",
       "    .dataframe tbody tr th:only-of-type {\n",
       "        vertical-align: middle;\n",
       "    }\n",
       "\n",
       "    .dataframe tbody tr th {\n",
       "        vertical-align: top;\n",
       "    }\n",
       "\n",
       "    .dataframe thead th {\n",
       "        text-align: right;\n",
       "    }\n",
       "</style>\n",
       "<table border=\"1\" class=\"dataframe\">\n",
       "  <thead>\n",
       "    <tr style=\"text-align: right;\">\n",
       "      <th></th>\n",
       "      <th>INCIDENT_NUMBER</th>\n",
       "      <th>OFFENSE_CODE</th>\n",
       "      <th>OFFENSE_CODE_GROUP</th>\n",
       "      <th>OFFENSE_DESCRIPTION</th>\n",
       "      <th>DISTRICT</th>\n",
       "      <th>REPORTING_AREA</th>\n",
       "      <th>SHOOTING</th>\n",
       "      <th>OCCURRED_ON_DATE</th>\n",
       "      <th>YEAR</th>\n",
       "      <th>MONTH</th>\n",
       "      <th>DAY_OF_WEEK</th>\n",
       "      <th>HOUR</th>\n",
       "      <th>UCR_PART</th>\n",
       "      <th>STREET</th>\n",
       "      <th>Lat</th>\n",
       "      <th>Long</th>\n",
       "      <th>Location</th>\n",
       "    </tr>\n",
       "  </thead>\n",
       "  <tbody>\n",
       "    <tr>\n",
       "      <th>0</th>\n",
       "      <td>I192074738</td>\n",
       "      <td>2629</td>\n",
       "      <td>Harassment</td>\n",
       "      <td>HARASSMENT</td>\n",
       "      <td>C11</td>\n",
       "      <td>240.0</td>\n",
       "      <td>NaN</td>\n",
       "      <td>42614</td>\n",
       "      <td>2016</td>\n",
       "      <td>9</td>\n",
       "      <td>Thursday</td>\n",
       "      <td>0</td>\n",
       "      <td>Part Two</td>\n",
       "      <td>CONRAD ST</td>\n",
       "      <td>42.318724</td>\n",
       "      <td>-71.062001</td>\n",
       "      <td>(42.31872369, -71.06200077)</td>\n",
       "    </tr>\n",
       "    <tr>\n",
       "      <th>1</th>\n",
       "      <td>I192073288</td>\n",
       "      <td>802</td>\n",
       "      <td>Simple Assault</td>\n",
       "      <td>ASSAULT SIMPLE - BATTERY</td>\n",
       "      <td>D14</td>\n",
       "      <td>760.0</td>\n",
       "      <td>NaN</td>\n",
       "      <td>42614.375</td>\n",
       "      <td>2016</td>\n",
       "      <td>9</td>\n",
       "      <td>Thursday</td>\n",
       "      <td>9</td>\n",
       "      <td>Part Two</td>\n",
       "      <td>BEECHCROFT ST</td>\n",
       "      <td>42.351673</td>\n",
       "      <td>-71.161152</td>\n",
       "      <td>(42.35167293, -71.16115206)</td>\n",
       "    </tr>\n",
       "    <tr>\n",
       "      <th>2</th>\n",
       "      <td>I192071326</td>\n",
       "      <td>619</td>\n",
       "      <td>Larceny</td>\n",
       "      <td>LARCENY ALL OTHERS</td>\n",
       "      <td>A1</td>\n",
       "      <td>113.0</td>\n",
       "      <td>NaN</td>\n",
       "      <td>42584</td>\n",
       "      <td>2016</td>\n",
       "      <td>8</td>\n",
       "      <td>Tuesday</td>\n",
       "      <td>0</td>\n",
       "      <td>Part One</td>\n",
       "      <td>HIGH ST</td>\n",
       "      <td>42.353448</td>\n",
       "      <td>-71.056581</td>\n",
       "      <td>(42.35344834, -71.05658072)</td>\n",
       "    </tr>\n",
       "    <tr>\n",
       "      <th>3</th>\n",
       "      <td>I192071326</td>\n",
       "      <td>1102</td>\n",
       "      <td>Fraud</td>\n",
       "      <td>FRAUD - FALSE PRETENSE / SCHEME</td>\n",
       "      <td>A1</td>\n",
       "      <td>113.0</td>\n",
       "      <td>NaN</td>\n",
       "      <td>42584</td>\n",
       "      <td>2016</td>\n",
       "      <td>8</td>\n",
       "      <td>Tuesday</td>\n",
       "      <td>0</td>\n",
       "      <td>Part Two</td>\n",
       "      <td>HIGH ST</td>\n",
       "      <td>42.353448</td>\n",
       "      <td>-71.056581</td>\n",
       "      <td>(42.35344834, -71.05658072)</td>\n",
       "    </tr>\n",
       "    <tr>\n",
       "      <th>4</th>\n",
       "      <td>I192071292</td>\n",
       "      <td>1107</td>\n",
       "      <td>Fraud</td>\n",
       "      <td>FRAUD - IMPERSONATION</td>\n",
       "      <td>B2</td>\n",
       "      <td>328.0</td>\n",
       "      <td>NaN</td>\n",
       "      <td>42619.54236</td>\n",
       "      <td>2016</td>\n",
       "      <td>9</td>\n",
       "      <td>Tuesday</td>\n",
       "      <td>13</td>\n",
       "      <td>Part Two</td>\n",
       "      <td>FERNBORO ST</td>\n",
       "      <td>42.311296</td>\n",
       "      <td>-71.077283</td>\n",
       "      <td>(42.31129587, -71.07728269)</td>\n",
       "    </tr>\n",
       "    <tr>\n",
       "      <th>...</th>\n",
       "      <td>...</td>\n",
       "      <td>...</td>\n",
       "      <td>...</td>\n",
       "      <td>...</td>\n",
       "      <td>...</td>\n",
       "      <td>...</td>\n",
       "      <td>...</td>\n",
       "      <td>...</td>\n",
       "      <td>...</td>\n",
       "      <td>...</td>\n",
       "      <td>...</td>\n",
       "      <td>...</td>\n",
       "      <td>...</td>\n",
       "      <td>...</td>\n",
       "      <td>...</td>\n",
       "      <td>...</td>\n",
       "      <td>...</td>\n",
       "    </tr>\n",
       "    <tr>\n",
       "      <th>450979</th>\n",
       "      <td>121005808</td>\n",
       "      <td>1102</td>\n",
       "      <td>N/A</td>\n",
       "      <td>FRAUD - FALSE PRETENSE / SCHEME</td>\n",
       "      <td>B3</td>\n",
       "      <td>289.0</td>\n",
       "      <td>0</td>\n",
       "      <td>1/19/2021 12:00</td>\n",
       "      <td>2021</td>\n",
       "      <td>1</td>\n",
       "      <td>Tuesday</td>\n",
       "      <td>12</td>\n",
       "      <td>NaN</td>\n",
       "      <td>CLARKWOOD ST</td>\n",
       "      <td>42.333679</td>\n",
       "      <td>-71.091878</td>\n",
       "      <td>(42.3336792181085, -71.0918775461846)</td>\n",
       "    </tr>\n",
       "    <tr>\n",
       "      <th>450980</th>\n",
       "      <td>121000816</td>\n",
       "      <td>3304</td>\n",
       "      <td>N/A</td>\n",
       "      <td>NOISY PARTY/RADIO-NO ARREST</td>\n",
       "      <td>E5</td>\n",
       "      <td>675.0</td>\n",
       "      <td>0</td>\n",
       "      <td>1/4/2021 0:00</td>\n",
       "      <td>2021</td>\n",
       "      <td>1</td>\n",
       "      <td>Monday</td>\n",
       "      <td>0</td>\n",
       "      <td>NaN</td>\n",
       "      <td>BRADFIELD AVENUE</td>\n",
       "      <td>0.000000</td>\n",
       "      <td>0.000000</td>\n",
       "      <td>(0, 0)</td>\n",
       "    </tr>\n",
       "    <tr>\n",
       "      <th>450981</th>\n",
       "      <td>120221042</td>\n",
       "      <td>3006</td>\n",
       "      <td>N/A</td>\n",
       "      <td>SICK/INJURED/MEDICAL - PERSON</td>\n",
       "      <td>E5</td>\n",
       "      <td>680.0</td>\n",
       "      <td>0</td>\n",
       "      <td>4/2/2021 10:45</td>\n",
       "      <td>2021</td>\n",
       "      <td>4</td>\n",
       "      <td>Friday</td>\n",
       "      <td>10</td>\n",
       "      <td>NaN</td>\n",
       "      <td>WASHINGTON ST</td>\n",
       "      <td>42.283902</td>\n",
       "      <td>-71.130863</td>\n",
       "      <td>(42.2839024364831, -71.130862626435)</td>\n",
       "    </tr>\n",
       "    <tr>\n",
       "      <th>450982</th>\n",
       "      <td>10637224</td>\n",
       "      <td>3125</td>\n",
       "      <td>N/A</td>\n",
       "      <td>WARRANT ARREST - BOSTON WARRANT (MUST BE SUPPL...</td>\n",
       "      <td>D4</td>\n",
       "      <td>270.0</td>\n",
       "      <td>0</td>\n",
       "      <td>1/26/2021 18:54</td>\n",
       "      <td>2021</td>\n",
       "      <td>1</td>\n",
       "      <td>Tuesday</td>\n",
       "      <td>18</td>\n",
       "      <td>NaN</td>\n",
       "      <td>NORTHAMPTON ST</td>\n",
       "      <td>42.333951</td>\n",
       "      <td>-71.075389</td>\n",
       "      <td>(42.3339512483938, -71.0753893882269)</td>\n",
       "    </tr>\n",
       "    <tr>\n",
       "      <th>450983</th>\n",
       "      <td>23844463</td>\n",
       "      <td>3115</td>\n",
       "      <td>N/A</td>\n",
       "      <td>INVESTIGATE PERSON</td>\n",
       "      <td>C6</td>\n",
       "      <td>NaN</td>\n",
       "      <td>0</td>\n",
       "      <td>10/16/2021 1:16</td>\n",
       "      <td>2021</td>\n",
       "      <td>10</td>\n",
       "      <td>Saturday</td>\n",
       "      <td>1</td>\n",
       "      <td>NaN</td>\n",
       "      <td>G ST &amp; E 8TH ST\\nBOSTON  MA 02127\\nUNITED STATES</td>\n",
       "      <td>42.331320</td>\n",
       "      <td>-71.044080</td>\n",
       "      <td>(42.3313200390092, -71.0440799616656)</td>\n",
       "    </tr>\n",
       "  </tbody>\n",
       "</table>\n",
       "<p>450984 rows × 17 columns</p>\n",
       "</div>"
      ],
      "text/plain": [
       "       INCIDENT_NUMBER  OFFENSE_CODE OFFENSE_CODE_GROUP  \\\n",
       "0           I192074738          2629         Harassment   \n",
       "1           I192073288           802     Simple Assault   \n",
       "2           I192071326           619            Larceny   \n",
       "3           I192071326          1102              Fraud   \n",
       "4           I192071292          1107              Fraud   \n",
       "...                ...           ...                ...   \n",
       "450979       121005808          1102                N/A   \n",
       "450980       121000816          3304                N/A   \n",
       "450981       120221042          3006                N/A   \n",
       "450982        10637224          3125                N/A   \n",
       "450983        23844463          3115                N/A   \n",
       "\n",
       "                                      OFFENSE_DESCRIPTION DISTRICT  \\\n",
       "0                                              HARASSMENT      C11   \n",
       "1                                ASSAULT SIMPLE - BATTERY      D14   \n",
       "2                                      LARCENY ALL OTHERS       A1   \n",
       "3                         FRAUD - FALSE PRETENSE / SCHEME       A1   \n",
       "4                                   FRAUD - IMPERSONATION       B2   \n",
       "...                                                   ...      ...   \n",
       "450979                    FRAUD - FALSE PRETENSE / SCHEME       B3   \n",
       "450980                        NOISY PARTY/RADIO-NO ARREST       E5   \n",
       "450981                      SICK/INJURED/MEDICAL - PERSON       E5   \n",
       "450982  WARRANT ARREST - BOSTON WARRANT (MUST BE SUPPL...       D4   \n",
       "450983                                 INVESTIGATE PERSON       C6   \n",
       "\n",
       "        REPORTING_AREA SHOOTING OCCURRED_ON_DATE  YEAR  MONTH DAY_OF_WEEK  \\\n",
       "0                240.0      NaN            42614  2016      9    Thursday   \n",
       "1                760.0      NaN        42614.375  2016      9    Thursday   \n",
       "2                113.0      NaN            42584  2016      8     Tuesday   \n",
       "3                113.0      NaN            42584  2016      8     Tuesday   \n",
       "4                328.0      NaN      42619.54236  2016      9     Tuesday   \n",
       "...                ...      ...              ...   ...    ...         ...   \n",
       "450979           289.0        0  1/19/2021 12:00  2021      1     Tuesday   \n",
       "450980           675.0        0    1/4/2021 0:00  2021      1      Monday   \n",
       "450981           680.0        0   4/2/2021 10:45  2021      4      Friday   \n",
       "450982           270.0        0  1/26/2021 18:54  2021      1     Tuesday   \n",
       "450983             NaN        0  10/16/2021 1:16  2021     10    Saturday   \n",
       "\n",
       "        HOUR  UCR_PART                                            STREET  \\\n",
       "0          0  Part Two                                         CONRAD ST   \n",
       "1          9  Part Two                                     BEECHCROFT ST   \n",
       "2          0  Part One                                           HIGH ST   \n",
       "3          0  Part Two                                           HIGH ST   \n",
       "4         13  Part Two                                       FERNBORO ST   \n",
       "...      ...       ...                                               ...   \n",
       "450979    12       NaN                                      CLARKWOOD ST   \n",
       "450980     0       NaN                                  BRADFIELD AVENUE   \n",
       "450981    10       NaN                                     WASHINGTON ST   \n",
       "450982    18       NaN                                    NORTHAMPTON ST   \n",
       "450983     1       NaN  G ST & E 8TH ST\\nBOSTON  MA 02127\\nUNITED STATES   \n",
       "\n",
       "              Lat       Long                               Location  \n",
       "0       42.318724 -71.062001            (42.31872369, -71.06200077)  \n",
       "1       42.351673 -71.161152            (42.35167293, -71.16115206)  \n",
       "2       42.353448 -71.056581            (42.35344834, -71.05658072)  \n",
       "3       42.353448 -71.056581            (42.35344834, -71.05658072)  \n",
       "4       42.311296 -71.077283            (42.31129587, -71.07728269)  \n",
       "...           ...        ...                                    ...  \n",
       "450979  42.333679 -71.091878  (42.3336792181085, -71.0918775461846)  \n",
       "450980   0.000000   0.000000                                 (0, 0)  \n",
       "450981  42.283902 -71.130863   (42.2839024364831, -71.130862626435)  \n",
       "450982  42.333951 -71.075389  (42.3339512483938, -71.0753893882269)  \n",
       "450983  42.331320 -71.044080  (42.3313200390092, -71.0440799616656)  \n",
       "\n",
       "[450984 rows x 17 columns]"
      ]
     },
     "execution_count": 19,
     "metadata": {},
     "output_type": "execute_result"
    }
   ],
   "source": [
    "df"
   ]
  },
  {
   "cell_type": "code",
   "execution_count": 20,
   "id": "14995f32",
   "metadata": {},
   "outputs": [
    {
     "data": {
      "text/plain": [
       "array([], dtype=int64)"
      ]
     },
     "execution_count": 20,
     "metadata": {},
     "output_type": "execute_result"
    }
   ],
   "source": [
    "df['REPORTING_AREA'].fillna(\"N/A\",inplace=True)\n",
    "index=(df[df['REPORTING_AREA'].isnull()==True].index.values)\n",
    "index"
   ]
  },
  {
   "cell_type": "code",
   "execution_count": 21,
   "id": "6957cd1e",
   "metadata": {},
   "outputs": [
    {
     "data": {
      "text/plain": [
       "array([], dtype=int64)"
      ]
     },
     "execution_count": 21,
     "metadata": {},
     "output_type": "execute_result"
    }
   ],
   "source": [
    "df['INCIDENT_NUMBER'].fillna(\"N/A\",inplace=True)\n",
    "index=(df[df['INCIDENT_NUMBER'].isnull()==True].index.values)\n",
    "index"
   ]
  },
  {
   "cell_type": "code",
   "execution_count": 22,
   "id": "49f7449f",
   "metadata": {},
   "outputs": [
    {
     "data": {
      "text/plain": [
       "array([], dtype=int64)"
      ]
     },
     "execution_count": 22,
     "metadata": {},
     "output_type": "execute_result"
    }
   ],
   "source": [
    "df['OFFENSE_CODE'].fillna(\"N/A\",inplace=True)\n",
    "index=(df[df['OFFENSE_CODE'].isnull()==True].index.values)\n",
    "index"
   ]
  },
  {
   "cell_type": "code",
   "execution_count": 23,
   "id": "ce68b9e6",
   "metadata": {},
   "outputs": [
    {
     "data": {
      "text/plain": [
       "array([], dtype=int64)"
      ]
     },
     "execution_count": 23,
     "metadata": {},
     "output_type": "execute_result"
    }
   ],
   "source": [
    "df['OFFENSE_DESCRIPTION'].fillna(\"N/A\",inplace=True)\n",
    "index=(df[df['OFFENSE_DESCRIPTION'].isnull()==True].index.values)\n",
    "index\n"
   ]
  },
  {
   "cell_type": "code",
   "execution_count": 24,
   "id": "10e2f97b",
   "metadata": {},
   "outputs": [
    {
     "data": {
      "text/plain": [
       "array([], dtype=int64)"
      ]
     },
     "execution_count": 24,
     "metadata": {},
     "output_type": "execute_result"
    }
   ],
   "source": [
    "df['DISTRICT'].fillna(\"N/A\",inplace=True)\n",
    "index=(df[df['DISTRICT'].isnull()==True].index.values)\n",
    "index"
   ]
  },
  {
   "cell_type": "code",
   "execution_count": 25,
   "id": "0d6a9b18",
   "metadata": {},
   "outputs": [
    {
     "data": {
      "text/plain": [
       "array([], dtype=int64)"
      ]
     },
     "execution_count": 25,
     "metadata": {},
     "output_type": "execute_result"
    }
   ],
   "source": [
    "df['REPORTING_AREA'].fillna(\"N/A\",inplace=True)\n",
    "index=(df[df['REPORTING_AREA'].isnull()==True].index.values)\n",
    "index"
   ]
  },
  {
   "cell_type": "code",
   "execution_count": 26,
   "id": "8e57223d",
   "metadata": {},
   "outputs": [
    {
     "data": {
      "text/plain": [
       "array([], dtype=int64)"
      ]
     },
     "execution_count": 26,
     "metadata": {},
     "output_type": "execute_result"
    }
   ],
   "source": [
    "df['SHOOTING'].fillna(\"N/A\",inplace=True)\n",
    "index=(df[df['SHOOTING'].isnull()==True].index.values)\n",
    "index"
   ]
  },
  {
   "cell_type": "code",
   "execution_count": 27,
   "id": "62898030",
   "metadata": {},
   "outputs": [
    {
     "data": {
      "text/plain": [
       "array([], dtype=int64)"
      ]
     },
     "execution_count": 27,
     "metadata": {},
     "output_type": "execute_result"
    }
   ],
   "source": [
    "df['OCCURRED_ON_DATE'].fillna(\"N/A\",inplace=True)\n",
    "index=(df[df['OCCURRED_ON_DATE'].isnull()==True].index.values)\n",
    "index"
   ]
  },
  {
   "cell_type": "code",
   "execution_count": 28,
   "id": "bdd1c547",
   "metadata": {},
   "outputs": [
    {
     "data": {
      "text/plain": [
       "array([], dtype=int64)"
      ]
     },
     "execution_count": 28,
     "metadata": {},
     "output_type": "execute_result"
    }
   ],
   "source": [
    "df['YEAR'].fillna(\"N/A\",inplace=True)\n",
    "index=(df[df['YEAR'].isnull()==True].index.values)\n",
    "index"
   ]
  },
  {
   "cell_type": "code",
   "execution_count": 29,
   "id": "fb83af1e",
   "metadata": {},
   "outputs": [
    {
     "data": {
      "text/plain": [
       "array([], dtype=int64)"
      ]
     },
     "execution_count": 29,
     "metadata": {},
     "output_type": "execute_result"
    }
   ],
   "source": [
    "df['HOUR'].fillna(\"N/A\",inplace=True)\n",
    "index=(df[df['HOUR'].isnull()==True].index.values)\n",
    "index"
   ]
  },
  {
   "cell_type": "code",
   "execution_count": 30,
   "id": "fab9c61c",
   "metadata": {},
   "outputs": [
    {
     "data": {
      "text/plain": [
       "array([], dtype=int64)"
      ]
     },
     "execution_count": 30,
     "metadata": {},
     "output_type": "execute_result"
    }
   ],
   "source": [
    "df['UCR_PART'].fillna(\"N/A\",inplace=True)\n",
    "index=(df[df['UCR_PART'].isnull()==True].index.values)\n",
    "index"
   ]
  },
  {
   "cell_type": "code",
   "execution_count": 31,
   "id": "274b397c",
   "metadata": {},
   "outputs": [
    {
     "data": {
      "text/plain": [
       "array([], dtype=int64)"
      ]
     },
     "execution_count": 31,
     "metadata": {},
     "output_type": "execute_result"
    }
   ],
   "source": [
    "df['STREET'].fillna(\"N/A\",inplace=True)\n",
    "index=(df[df['STREET'].isnull()==True].index.values)\n",
    "index"
   ]
  },
  {
   "cell_type": "code",
   "execution_count": 32,
   "id": "297eb8a3",
   "metadata": {},
   "outputs": [
    {
     "data": {
      "text/plain": [
       "array([], dtype=int64)"
      ]
     },
     "execution_count": 32,
     "metadata": {},
     "output_type": "execute_result"
    }
   ],
   "source": [
    "df['Lat'].fillna(\"N/A\",inplace=True)\n",
    "index=(df[df['Lat'].isnull()==True].index.values)\n",
    "index"
   ]
  },
  {
   "cell_type": "code",
   "execution_count": 33,
   "id": "79473559",
   "metadata": {},
   "outputs": [
    {
     "data": {
      "text/plain": [
       "array([], dtype=int64)"
      ]
     },
     "execution_count": 33,
     "metadata": {},
     "output_type": "execute_result"
    }
   ],
   "source": [
    "df['Long'].fillna(\"N/A\",inplace=True)\n",
    "index=(df[df['Long'].isnull()==True].index.values)\n",
    "index"
   ]
  },
  {
   "cell_type": "code",
   "execution_count": 34,
   "id": "5a7e9fe0",
   "metadata": {},
   "outputs": [
    {
     "data": {
      "text/plain": [
       "array([], dtype=int64)"
      ]
     },
     "execution_count": 34,
     "metadata": {},
     "output_type": "execute_result"
    }
   ],
   "source": [
    "df['Location'].fillna(\"N/A\",inplace=True)\n",
    "index=(df[df['Location'].isnull()==True].index.values)\n",
    "index"
   ]
  },
  {
   "cell_type": "code",
   "execution_count": 35,
   "id": "e91da44a",
   "metadata": {},
   "outputs": [
    {
     "data": {
      "text/html": [
       "<div>\n",
       "<style scoped>\n",
       "    .dataframe tbody tr th:only-of-type {\n",
       "        vertical-align: middle;\n",
       "    }\n",
       "\n",
       "    .dataframe tbody tr th {\n",
       "        vertical-align: top;\n",
       "    }\n",
       "\n",
       "    .dataframe thead th {\n",
       "        text-align: right;\n",
       "    }\n",
       "</style>\n",
       "<table border=\"1\" class=\"dataframe\">\n",
       "  <thead>\n",
       "    <tr style=\"text-align: right;\">\n",
       "      <th></th>\n",
       "      <th>INCIDENT_NUMBER</th>\n",
       "      <th>OFFENSE_CODE</th>\n",
       "      <th>OFFENSE_CODE_GROUP</th>\n",
       "      <th>OFFENSE_DESCRIPTION</th>\n",
       "      <th>DISTRICT</th>\n",
       "      <th>REPORTING_AREA</th>\n",
       "      <th>SHOOTING</th>\n",
       "      <th>OCCURRED_ON_DATE</th>\n",
       "      <th>YEAR</th>\n",
       "      <th>MONTH</th>\n",
       "      <th>DAY_OF_WEEK</th>\n",
       "      <th>HOUR</th>\n",
       "      <th>UCR_PART</th>\n",
       "      <th>STREET</th>\n",
       "      <th>Lat</th>\n",
       "      <th>Long</th>\n",
       "      <th>Location</th>\n",
       "    </tr>\n",
       "  </thead>\n",
       "  <tbody>\n",
       "    <tr>\n",
       "      <th>0</th>\n",
       "      <td>I192074738</td>\n",
       "      <td>2629</td>\n",
       "      <td>Harassment</td>\n",
       "      <td>HARASSMENT</td>\n",
       "      <td>C11</td>\n",
       "      <td>240.0</td>\n",
       "      <td>N/A</td>\n",
       "      <td>42614</td>\n",
       "      <td>2016</td>\n",
       "      <td>9</td>\n",
       "      <td>Thursday</td>\n",
       "      <td>0</td>\n",
       "      <td>Part Two</td>\n",
       "      <td>CONRAD ST</td>\n",
       "      <td>42.318724</td>\n",
       "      <td>-71.062001</td>\n",
       "      <td>(42.31872369, -71.06200077)</td>\n",
       "    </tr>\n",
       "    <tr>\n",
       "      <th>1</th>\n",
       "      <td>I192073288</td>\n",
       "      <td>802</td>\n",
       "      <td>Simple Assault</td>\n",
       "      <td>ASSAULT SIMPLE - BATTERY</td>\n",
       "      <td>D14</td>\n",
       "      <td>760.0</td>\n",
       "      <td>N/A</td>\n",
       "      <td>42614.375</td>\n",
       "      <td>2016</td>\n",
       "      <td>9</td>\n",
       "      <td>Thursday</td>\n",
       "      <td>9</td>\n",
       "      <td>Part Two</td>\n",
       "      <td>BEECHCROFT ST</td>\n",
       "      <td>42.351673</td>\n",
       "      <td>-71.161152</td>\n",
       "      <td>(42.35167293, -71.16115206)</td>\n",
       "    </tr>\n",
       "    <tr>\n",
       "      <th>2</th>\n",
       "      <td>I192071326</td>\n",
       "      <td>619</td>\n",
       "      <td>Larceny</td>\n",
       "      <td>LARCENY ALL OTHERS</td>\n",
       "      <td>A1</td>\n",
       "      <td>113.0</td>\n",
       "      <td>N/A</td>\n",
       "      <td>42584</td>\n",
       "      <td>2016</td>\n",
       "      <td>8</td>\n",
       "      <td>Tuesday</td>\n",
       "      <td>0</td>\n",
       "      <td>Part One</td>\n",
       "      <td>HIGH ST</td>\n",
       "      <td>42.353448</td>\n",
       "      <td>-71.056581</td>\n",
       "      <td>(42.35344834, -71.05658072)</td>\n",
       "    </tr>\n",
       "    <tr>\n",
       "      <th>3</th>\n",
       "      <td>I192071326</td>\n",
       "      <td>1102</td>\n",
       "      <td>Fraud</td>\n",
       "      <td>FRAUD - FALSE PRETENSE / SCHEME</td>\n",
       "      <td>A1</td>\n",
       "      <td>113.0</td>\n",
       "      <td>N/A</td>\n",
       "      <td>42584</td>\n",
       "      <td>2016</td>\n",
       "      <td>8</td>\n",
       "      <td>Tuesday</td>\n",
       "      <td>0</td>\n",
       "      <td>Part Two</td>\n",
       "      <td>HIGH ST</td>\n",
       "      <td>42.353448</td>\n",
       "      <td>-71.056581</td>\n",
       "      <td>(42.35344834, -71.05658072)</td>\n",
       "    </tr>\n",
       "    <tr>\n",
       "      <th>4</th>\n",
       "      <td>I192071292</td>\n",
       "      <td>1107</td>\n",
       "      <td>Fraud</td>\n",
       "      <td>FRAUD - IMPERSONATION</td>\n",
       "      <td>B2</td>\n",
       "      <td>328.0</td>\n",
       "      <td>N/A</td>\n",
       "      <td>42619.54236</td>\n",
       "      <td>2016</td>\n",
       "      <td>9</td>\n",
       "      <td>Tuesday</td>\n",
       "      <td>13</td>\n",
       "      <td>Part Two</td>\n",
       "      <td>FERNBORO ST</td>\n",
       "      <td>42.311296</td>\n",
       "      <td>-71.077283</td>\n",
       "      <td>(42.31129587, -71.07728269)</td>\n",
       "    </tr>\n",
       "    <tr>\n",
       "      <th>...</th>\n",
       "      <td>...</td>\n",
       "      <td>...</td>\n",
       "      <td>...</td>\n",
       "      <td>...</td>\n",
       "      <td>...</td>\n",
       "      <td>...</td>\n",
       "      <td>...</td>\n",
       "      <td>...</td>\n",
       "      <td>...</td>\n",
       "      <td>...</td>\n",
       "      <td>...</td>\n",
       "      <td>...</td>\n",
       "      <td>...</td>\n",
       "      <td>...</td>\n",
       "      <td>...</td>\n",
       "      <td>...</td>\n",
       "      <td>...</td>\n",
       "    </tr>\n",
       "    <tr>\n",
       "      <th>450979</th>\n",
       "      <td>121005808</td>\n",
       "      <td>1102</td>\n",
       "      <td>N/A</td>\n",
       "      <td>FRAUD - FALSE PRETENSE / SCHEME</td>\n",
       "      <td>B3</td>\n",
       "      <td>289.0</td>\n",
       "      <td>0</td>\n",
       "      <td>1/19/2021 12:00</td>\n",
       "      <td>2021</td>\n",
       "      <td>1</td>\n",
       "      <td>Tuesday</td>\n",
       "      <td>12</td>\n",
       "      <td>N/A</td>\n",
       "      <td>CLARKWOOD ST</td>\n",
       "      <td>42.333679</td>\n",
       "      <td>-71.091878</td>\n",
       "      <td>(42.3336792181085, -71.0918775461846)</td>\n",
       "    </tr>\n",
       "    <tr>\n",
       "      <th>450980</th>\n",
       "      <td>121000816</td>\n",
       "      <td>3304</td>\n",
       "      <td>N/A</td>\n",
       "      <td>NOISY PARTY/RADIO-NO ARREST</td>\n",
       "      <td>E5</td>\n",
       "      <td>675.0</td>\n",
       "      <td>0</td>\n",
       "      <td>1/4/2021 0:00</td>\n",
       "      <td>2021</td>\n",
       "      <td>1</td>\n",
       "      <td>Monday</td>\n",
       "      <td>0</td>\n",
       "      <td>N/A</td>\n",
       "      <td>BRADFIELD AVENUE</td>\n",
       "      <td>0.0</td>\n",
       "      <td>0.0</td>\n",
       "      <td>(0, 0)</td>\n",
       "    </tr>\n",
       "    <tr>\n",
       "      <th>450981</th>\n",
       "      <td>120221042</td>\n",
       "      <td>3006</td>\n",
       "      <td>N/A</td>\n",
       "      <td>SICK/INJURED/MEDICAL - PERSON</td>\n",
       "      <td>E5</td>\n",
       "      <td>680.0</td>\n",
       "      <td>0</td>\n",
       "      <td>4/2/2021 10:45</td>\n",
       "      <td>2021</td>\n",
       "      <td>4</td>\n",
       "      <td>Friday</td>\n",
       "      <td>10</td>\n",
       "      <td>N/A</td>\n",
       "      <td>WASHINGTON ST</td>\n",
       "      <td>42.283902</td>\n",
       "      <td>-71.130863</td>\n",
       "      <td>(42.2839024364831, -71.130862626435)</td>\n",
       "    </tr>\n",
       "    <tr>\n",
       "      <th>450982</th>\n",
       "      <td>10637224</td>\n",
       "      <td>3125</td>\n",
       "      <td>N/A</td>\n",
       "      <td>WARRANT ARREST - BOSTON WARRANT (MUST BE SUPPL...</td>\n",
       "      <td>D4</td>\n",
       "      <td>270.0</td>\n",
       "      <td>0</td>\n",
       "      <td>1/26/2021 18:54</td>\n",
       "      <td>2021</td>\n",
       "      <td>1</td>\n",
       "      <td>Tuesday</td>\n",
       "      <td>18</td>\n",
       "      <td>N/A</td>\n",
       "      <td>NORTHAMPTON ST</td>\n",
       "      <td>42.333951</td>\n",
       "      <td>-71.075389</td>\n",
       "      <td>(42.3339512483938, -71.0753893882269)</td>\n",
       "    </tr>\n",
       "    <tr>\n",
       "      <th>450983</th>\n",
       "      <td>23844463</td>\n",
       "      <td>3115</td>\n",
       "      <td>N/A</td>\n",
       "      <td>INVESTIGATE PERSON</td>\n",
       "      <td>C6</td>\n",
       "      <td>N/A</td>\n",
       "      <td>0</td>\n",
       "      <td>10/16/2021 1:16</td>\n",
       "      <td>2021</td>\n",
       "      <td>10</td>\n",
       "      <td>Saturday</td>\n",
       "      <td>1</td>\n",
       "      <td>N/A</td>\n",
       "      <td>G ST &amp; E 8TH ST\\nBOSTON  MA 02127\\nUNITED STATES</td>\n",
       "      <td>42.33132</td>\n",
       "      <td>-71.04408</td>\n",
       "      <td>(42.3313200390092, -71.0440799616656)</td>\n",
       "    </tr>\n",
       "  </tbody>\n",
       "</table>\n",
       "<p>450984 rows × 17 columns</p>\n",
       "</div>"
      ],
      "text/plain": [
       "       INCIDENT_NUMBER  OFFENSE_CODE OFFENSE_CODE_GROUP  \\\n",
       "0           I192074738          2629         Harassment   \n",
       "1           I192073288           802     Simple Assault   \n",
       "2           I192071326           619            Larceny   \n",
       "3           I192071326          1102              Fraud   \n",
       "4           I192071292          1107              Fraud   \n",
       "...                ...           ...                ...   \n",
       "450979       121005808          1102                N/A   \n",
       "450980       121000816          3304                N/A   \n",
       "450981       120221042          3006                N/A   \n",
       "450982        10637224          3125                N/A   \n",
       "450983        23844463          3115                N/A   \n",
       "\n",
       "                                      OFFENSE_DESCRIPTION DISTRICT  \\\n",
       "0                                              HARASSMENT      C11   \n",
       "1                                ASSAULT SIMPLE - BATTERY      D14   \n",
       "2                                      LARCENY ALL OTHERS       A1   \n",
       "3                         FRAUD - FALSE PRETENSE / SCHEME       A1   \n",
       "4                                   FRAUD - IMPERSONATION       B2   \n",
       "...                                                   ...      ...   \n",
       "450979                    FRAUD - FALSE PRETENSE / SCHEME       B3   \n",
       "450980                        NOISY PARTY/RADIO-NO ARREST       E5   \n",
       "450981                      SICK/INJURED/MEDICAL - PERSON       E5   \n",
       "450982  WARRANT ARREST - BOSTON WARRANT (MUST BE SUPPL...       D4   \n",
       "450983                                 INVESTIGATE PERSON       C6   \n",
       "\n",
       "       REPORTING_AREA SHOOTING OCCURRED_ON_DATE  YEAR  MONTH DAY_OF_WEEK  \\\n",
       "0               240.0      N/A            42614  2016      9    Thursday   \n",
       "1               760.0      N/A        42614.375  2016      9    Thursday   \n",
       "2               113.0      N/A            42584  2016      8     Tuesday   \n",
       "3               113.0      N/A            42584  2016      8     Tuesday   \n",
       "4               328.0      N/A      42619.54236  2016      9     Tuesday   \n",
       "...               ...      ...              ...   ...    ...         ...   \n",
       "450979          289.0        0  1/19/2021 12:00  2021      1     Tuesday   \n",
       "450980          675.0        0    1/4/2021 0:00  2021      1      Monday   \n",
       "450981          680.0        0   4/2/2021 10:45  2021      4      Friday   \n",
       "450982          270.0        0  1/26/2021 18:54  2021      1     Tuesday   \n",
       "450983            N/A        0  10/16/2021 1:16  2021     10    Saturday   \n",
       "\n",
       "        HOUR  UCR_PART                                            STREET  \\\n",
       "0          0  Part Two                                         CONRAD ST   \n",
       "1          9  Part Two                                     BEECHCROFT ST   \n",
       "2          0  Part One                                           HIGH ST   \n",
       "3          0  Part Two                                           HIGH ST   \n",
       "4         13  Part Two                                       FERNBORO ST   \n",
       "...      ...       ...                                               ...   \n",
       "450979    12       N/A                                      CLARKWOOD ST   \n",
       "450980     0       N/A                                  BRADFIELD AVENUE   \n",
       "450981    10       N/A                                     WASHINGTON ST   \n",
       "450982    18       N/A                                    NORTHAMPTON ST   \n",
       "450983     1       N/A  G ST & E 8TH ST\\nBOSTON  MA 02127\\nUNITED STATES   \n",
       "\n",
       "              Lat       Long                               Location  \n",
       "0       42.318724 -71.062001            (42.31872369, -71.06200077)  \n",
       "1       42.351673 -71.161152            (42.35167293, -71.16115206)  \n",
       "2       42.353448 -71.056581            (42.35344834, -71.05658072)  \n",
       "3       42.353448 -71.056581            (42.35344834, -71.05658072)  \n",
       "4       42.311296 -71.077283            (42.31129587, -71.07728269)  \n",
       "...           ...        ...                                    ...  \n",
       "450979  42.333679 -71.091878  (42.3336792181085, -71.0918775461846)  \n",
       "450980        0.0        0.0                                 (0, 0)  \n",
       "450981  42.283902 -71.130863   (42.2839024364831, -71.130862626435)  \n",
       "450982  42.333951 -71.075389  (42.3339512483938, -71.0753893882269)  \n",
       "450983   42.33132  -71.04408  (42.3313200390092, -71.0440799616656)  \n",
       "\n",
       "[450984 rows x 17 columns]"
      ]
     },
     "execution_count": 35,
     "metadata": {},
     "output_type": "execute_result"
    }
   ],
   "source": [
    "df\n"
   ]
  },
  {
   "cell_type": "code",
   "execution_count": 36,
   "id": "2cc345c1",
   "metadata": {},
   "outputs": [],
   "source": [
    "df.drop(['Long','Lat'],axis=1,inplace=True)"
   ]
  },
  {
   "cell_type": "code",
   "execution_count": 37,
   "id": "82924bef",
   "metadata": {},
   "outputs": [
    {
     "data": {
      "text/html": [
       "<div>\n",
       "<style scoped>\n",
       "    .dataframe tbody tr th:only-of-type {\n",
       "        vertical-align: middle;\n",
       "    }\n",
       "\n",
       "    .dataframe tbody tr th {\n",
       "        vertical-align: top;\n",
       "    }\n",
       "\n",
       "    .dataframe thead th {\n",
       "        text-align: right;\n",
       "    }\n",
       "</style>\n",
       "<table border=\"1\" class=\"dataframe\">\n",
       "  <thead>\n",
       "    <tr style=\"text-align: right;\">\n",
       "      <th></th>\n",
       "      <th>INCIDENT_NUMBER</th>\n",
       "      <th>OFFENSE_CODE</th>\n",
       "      <th>OFFENSE_CODE_GROUP</th>\n",
       "      <th>OFFENSE_DESCRIPTION</th>\n",
       "      <th>DISTRICT</th>\n",
       "      <th>REPORTING_AREA</th>\n",
       "      <th>SHOOTING</th>\n",
       "      <th>OCCURRED_ON_DATE</th>\n",
       "      <th>YEAR</th>\n",
       "      <th>MONTH</th>\n",
       "      <th>DAY_OF_WEEK</th>\n",
       "      <th>HOUR</th>\n",
       "      <th>UCR_PART</th>\n",
       "      <th>STREET</th>\n",
       "      <th>Location</th>\n",
       "    </tr>\n",
       "  </thead>\n",
       "  <tbody>\n",
       "    <tr>\n",
       "      <th>0</th>\n",
       "      <td>I192074738</td>\n",
       "      <td>2629</td>\n",
       "      <td>Harassment</td>\n",
       "      <td>HARASSMENT</td>\n",
       "      <td>C11</td>\n",
       "      <td>240.0</td>\n",
       "      <td>N/A</td>\n",
       "      <td>42614</td>\n",
       "      <td>2016</td>\n",
       "      <td>9</td>\n",
       "      <td>Thursday</td>\n",
       "      <td>0</td>\n",
       "      <td>Part Two</td>\n",
       "      <td>CONRAD ST</td>\n",
       "      <td>(42.31872369, -71.06200077)</td>\n",
       "    </tr>\n",
       "    <tr>\n",
       "      <th>1</th>\n",
       "      <td>I192073288</td>\n",
       "      <td>802</td>\n",
       "      <td>Simple Assault</td>\n",
       "      <td>ASSAULT SIMPLE - BATTERY</td>\n",
       "      <td>D14</td>\n",
       "      <td>760.0</td>\n",
       "      <td>N/A</td>\n",
       "      <td>42614.375</td>\n",
       "      <td>2016</td>\n",
       "      <td>9</td>\n",
       "      <td>Thursday</td>\n",
       "      <td>9</td>\n",
       "      <td>Part Two</td>\n",
       "      <td>BEECHCROFT ST</td>\n",
       "      <td>(42.35167293, -71.16115206)</td>\n",
       "    </tr>\n",
       "    <tr>\n",
       "      <th>2</th>\n",
       "      <td>I192071326</td>\n",
       "      <td>619</td>\n",
       "      <td>Larceny</td>\n",
       "      <td>LARCENY ALL OTHERS</td>\n",
       "      <td>A1</td>\n",
       "      <td>113.0</td>\n",
       "      <td>N/A</td>\n",
       "      <td>42584</td>\n",
       "      <td>2016</td>\n",
       "      <td>8</td>\n",
       "      <td>Tuesday</td>\n",
       "      <td>0</td>\n",
       "      <td>Part One</td>\n",
       "      <td>HIGH ST</td>\n",
       "      <td>(42.35344834, -71.05658072)</td>\n",
       "    </tr>\n",
       "    <tr>\n",
       "      <th>3</th>\n",
       "      <td>I192071326</td>\n",
       "      <td>1102</td>\n",
       "      <td>Fraud</td>\n",
       "      <td>FRAUD - FALSE PRETENSE / SCHEME</td>\n",
       "      <td>A1</td>\n",
       "      <td>113.0</td>\n",
       "      <td>N/A</td>\n",
       "      <td>42584</td>\n",
       "      <td>2016</td>\n",
       "      <td>8</td>\n",
       "      <td>Tuesday</td>\n",
       "      <td>0</td>\n",
       "      <td>Part Two</td>\n",
       "      <td>HIGH ST</td>\n",
       "      <td>(42.35344834, -71.05658072)</td>\n",
       "    </tr>\n",
       "    <tr>\n",
       "      <th>4</th>\n",
       "      <td>I192071292</td>\n",
       "      <td>1107</td>\n",
       "      <td>Fraud</td>\n",
       "      <td>FRAUD - IMPERSONATION</td>\n",
       "      <td>B2</td>\n",
       "      <td>328.0</td>\n",
       "      <td>N/A</td>\n",
       "      <td>42619.54236</td>\n",
       "      <td>2016</td>\n",
       "      <td>9</td>\n",
       "      <td>Tuesday</td>\n",
       "      <td>13</td>\n",
       "      <td>Part Two</td>\n",
       "      <td>FERNBORO ST</td>\n",
       "      <td>(42.31129587, -71.07728269)</td>\n",
       "    </tr>\n",
       "    <tr>\n",
       "      <th>...</th>\n",
       "      <td>...</td>\n",
       "      <td>...</td>\n",
       "      <td>...</td>\n",
       "      <td>...</td>\n",
       "      <td>...</td>\n",
       "      <td>...</td>\n",
       "      <td>...</td>\n",
       "      <td>...</td>\n",
       "      <td>...</td>\n",
       "      <td>...</td>\n",
       "      <td>...</td>\n",
       "      <td>...</td>\n",
       "      <td>...</td>\n",
       "      <td>...</td>\n",
       "      <td>...</td>\n",
       "    </tr>\n",
       "    <tr>\n",
       "      <th>450979</th>\n",
       "      <td>121005808</td>\n",
       "      <td>1102</td>\n",
       "      <td>N/A</td>\n",
       "      <td>FRAUD - FALSE PRETENSE / SCHEME</td>\n",
       "      <td>B3</td>\n",
       "      <td>289.0</td>\n",
       "      <td>0</td>\n",
       "      <td>1/19/2021 12:00</td>\n",
       "      <td>2021</td>\n",
       "      <td>1</td>\n",
       "      <td>Tuesday</td>\n",
       "      <td>12</td>\n",
       "      <td>N/A</td>\n",
       "      <td>CLARKWOOD ST</td>\n",
       "      <td>(42.3336792181085, -71.0918775461846)</td>\n",
       "    </tr>\n",
       "    <tr>\n",
       "      <th>450980</th>\n",
       "      <td>121000816</td>\n",
       "      <td>3304</td>\n",
       "      <td>N/A</td>\n",
       "      <td>NOISY PARTY/RADIO-NO ARREST</td>\n",
       "      <td>E5</td>\n",
       "      <td>675.0</td>\n",
       "      <td>0</td>\n",
       "      <td>1/4/2021 0:00</td>\n",
       "      <td>2021</td>\n",
       "      <td>1</td>\n",
       "      <td>Monday</td>\n",
       "      <td>0</td>\n",
       "      <td>N/A</td>\n",
       "      <td>BRADFIELD AVENUE</td>\n",
       "      <td>(0, 0)</td>\n",
       "    </tr>\n",
       "    <tr>\n",
       "      <th>450981</th>\n",
       "      <td>120221042</td>\n",
       "      <td>3006</td>\n",
       "      <td>N/A</td>\n",
       "      <td>SICK/INJURED/MEDICAL - PERSON</td>\n",
       "      <td>E5</td>\n",
       "      <td>680.0</td>\n",
       "      <td>0</td>\n",
       "      <td>4/2/2021 10:45</td>\n",
       "      <td>2021</td>\n",
       "      <td>4</td>\n",
       "      <td>Friday</td>\n",
       "      <td>10</td>\n",
       "      <td>N/A</td>\n",
       "      <td>WASHINGTON ST</td>\n",
       "      <td>(42.2839024364831, -71.130862626435)</td>\n",
       "    </tr>\n",
       "    <tr>\n",
       "      <th>450982</th>\n",
       "      <td>10637224</td>\n",
       "      <td>3125</td>\n",
       "      <td>N/A</td>\n",
       "      <td>WARRANT ARREST - BOSTON WARRANT (MUST BE SUPPL...</td>\n",
       "      <td>D4</td>\n",
       "      <td>270.0</td>\n",
       "      <td>0</td>\n",
       "      <td>1/26/2021 18:54</td>\n",
       "      <td>2021</td>\n",
       "      <td>1</td>\n",
       "      <td>Tuesday</td>\n",
       "      <td>18</td>\n",
       "      <td>N/A</td>\n",
       "      <td>NORTHAMPTON ST</td>\n",
       "      <td>(42.3339512483938, -71.0753893882269)</td>\n",
       "    </tr>\n",
       "    <tr>\n",
       "      <th>450983</th>\n",
       "      <td>23844463</td>\n",
       "      <td>3115</td>\n",
       "      <td>N/A</td>\n",
       "      <td>INVESTIGATE PERSON</td>\n",
       "      <td>C6</td>\n",
       "      <td>N/A</td>\n",
       "      <td>0</td>\n",
       "      <td>10/16/2021 1:16</td>\n",
       "      <td>2021</td>\n",
       "      <td>10</td>\n",
       "      <td>Saturday</td>\n",
       "      <td>1</td>\n",
       "      <td>N/A</td>\n",
       "      <td>G ST &amp; E 8TH ST\\nBOSTON  MA 02127\\nUNITED STATES</td>\n",
       "      <td>(42.3313200390092, -71.0440799616656)</td>\n",
       "    </tr>\n",
       "  </tbody>\n",
       "</table>\n",
       "<p>450984 rows × 15 columns</p>\n",
       "</div>"
      ],
      "text/plain": [
       "       INCIDENT_NUMBER  OFFENSE_CODE OFFENSE_CODE_GROUP  \\\n",
       "0           I192074738          2629         Harassment   \n",
       "1           I192073288           802     Simple Assault   \n",
       "2           I192071326           619            Larceny   \n",
       "3           I192071326          1102              Fraud   \n",
       "4           I192071292          1107              Fraud   \n",
       "...                ...           ...                ...   \n",
       "450979       121005808          1102                N/A   \n",
       "450980       121000816          3304                N/A   \n",
       "450981       120221042          3006                N/A   \n",
       "450982        10637224          3125                N/A   \n",
       "450983        23844463          3115                N/A   \n",
       "\n",
       "                                      OFFENSE_DESCRIPTION DISTRICT  \\\n",
       "0                                              HARASSMENT      C11   \n",
       "1                                ASSAULT SIMPLE - BATTERY      D14   \n",
       "2                                      LARCENY ALL OTHERS       A1   \n",
       "3                         FRAUD - FALSE PRETENSE / SCHEME       A1   \n",
       "4                                   FRAUD - IMPERSONATION       B2   \n",
       "...                                                   ...      ...   \n",
       "450979                    FRAUD - FALSE PRETENSE / SCHEME       B3   \n",
       "450980                        NOISY PARTY/RADIO-NO ARREST       E5   \n",
       "450981                      SICK/INJURED/MEDICAL - PERSON       E5   \n",
       "450982  WARRANT ARREST - BOSTON WARRANT (MUST BE SUPPL...       D4   \n",
       "450983                                 INVESTIGATE PERSON       C6   \n",
       "\n",
       "       REPORTING_AREA SHOOTING OCCURRED_ON_DATE  YEAR  MONTH DAY_OF_WEEK  \\\n",
       "0               240.0      N/A            42614  2016      9    Thursday   \n",
       "1               760.0      N/A        42614.375  2016      9    Thursday   \n",
       "2               113.0      N/A            42584  2016      8     Tuesday   \n",
       "3               113.0      N/A            42584  2016      8     Tuesday   \n",
       "4               328.0      N/A      42619.54236  2016      9     Tuesday   \n",
       "...               ...      ...              ...   ...    ...         ...   \n",
       "450979          289.0        0  1/19/2021 12:00  2021      1     Tuesday   \n",
       "450980          675.0        0    1/4/2021 0:00  2021      1      Monday   \n",
       "450981          680.0        0   4/2/2021 10:45  2021      4      Friday   \n",
       "450982          270.0        0  1/26/2021 18:54  2021      1     Tuesday   \n",
       "450983            N/A        0  10/16/2021 1:16  2021     10    Saturday   \n",
       "\n",
       "        HOUR  UCR_PART                                            STREET  \\\n",
       "0          0  Part Two                                         CONRAD ST   \n",
       "1          9  Part Two                                     BEECHCROFT ST   \n",
       "2          0  Part One                                           HIGH ST   \n",
       "3          0  Part Two                                           HIGH ST   \n",
       "4         13  Part Two                                       FERNBORO ST   \n",
       "...      ...       ...                                               ...   \n",
       "450979    12       N/A                                      CLARKWOOD ST   \n",
       "450980     0       N/A                                  BRADFIELD AVENUE   \n",
       "450981    10       N/A                                     WASHINGTON ST   \n",
       "450982    18       N/A                                    NORTHAMPTON ST   \n",
       "450983     1       N/A  G ST & E 8TH ST\\nBOSTON  MA 02127\\nUNITED STATES   \n",
       "\n",
       "                                     Location  \n",
       "0                 (42.31872369, -71.06200077)  \n",
       "1                 (42.35167293, -71.16115206)  \n",
       "2                 (42.35344834, -71.05658072)  \n",
       "3                 (42.35344834, -71.05658072)  \n",
       "4                 (42.31129587, -71.07728269)  \n",
       "...                                       ...  \n",
       "450979  (42.3336792181085, -71.0918775461846)  \n",
       "450980                                 (0, 0)  \n",
       "450981   (42.2839024364831, -71.130862626435)  \n",
       "450982  (42.3339512483938, -71.0753893882269)  \n",
       "450983  (42.3313200390092, -71.0440799616656)  \n",
       "\n",
       "[450984 rows x 15 columns]"
      ]
     },
     "execution_count": 37,
     "metadata": {},
     "output_type": "execute_result"
    }
   ],
   "source": [
    "df"
   ]
  },
  {
   "cell_type": "code",
   "execution_count": 38,
   "id": "51a770ac",
   "metadata": {},
   "outputs": [],
   "source": [
    "dup_row=df[df.duplicated(['INCIDENT_NUMBER','OFFENSE_CODE','OFFENSE_CODE_GROUP','OFFENSE_DESCRIPTION','DISTRICT','REPORTING_AREA','SHOOTING','OCCURRED_ON_DATE','YEAR','MONTH','DAY_OF_WEEK','HOUR','UCR_PART','STREET','Location'])]"
   ]
  },
  {
   "cell_type": "code",
   "execution_count": 39,
   "id": "ff691adf",
   "metadata": {},
   "outputs": [
    {
     "data": {
      "text/html": [
       "<div>\n",
       "<style scoped>\n",
       "    .dataframe tbody tr th:only-of-type {\n",
       "        vertical-align: middle;\n",
       "    }\n",
       "\n",
       "    .dataframe tbody tr th {\n",
       "        vertical-align: top;\n",
       "    }\n",
       "\n",
       "    .dataframe thead th {\n",
       "        text-align: right;\n",
       "    }\n",
       "</style>\n",
       "<table border=\"1\" class=\"dataframe\">\n",
       "  <thead>\n",
       "    <tr style=\"text-align: right;\">\n",
       "      <th></th>\n",
       "      <th>INCIDENT_NUMBER</th>\n",
       "      <th>OFFENSE_CODE</th>\n",
       "      <th>OFFENSE_CODE_GROUP</th>\n",
       "      <th>OFFENSE_DESCRIPTION</th>\n",
       "      <th>DISTRICT</th>\n",
       "      <th>REPORTING_AREA</th>\n",
       "      <th>SHOOTING</th>\n",
       "      <th>OCCURRED_ON_DATE</th>\n",
       "      <th>YEAR</th>\n",
       "      <th>MONTH</th>\n",
       "      <th>DAY_OF_WEEK</th>\n",
       "      <th>HOUR</th>\n",
       "      <th>UCR_PART</th>\n",
       "      <th>STREET</th>\n",
       "      <th>Location</th>\n",
       "    </tr>\n",
       "  </thead>\n",
       "  <tbody>\n",
       "    <tr>\n",
       "      <th>3602</th>\n",
       "      <td>I162103452</td>\n",
       "      <td>3502</td>\n",
       "      <td>Missing Person Located</td>\n",
       "      <td>MISSING PERSON - LOCATED</td>\n",
       "      <td>E5</td>\n",
       "      <td>697.0</td>\n",
       "      <td>N/A</td>\n",
       "      <td>42724.25</td>\n",
       "      <td>2016</td>\n",
       "      <td>12</td>\n",
       "      <td>Tuesday</td>\n",
       "      <td>6</td>\n",
       "      <td>Part Three</td>\n",
       "      <td>KENNETH ST</td>\n",
       "      <td>(42.28523631, -71.14886058)</td>\n",
       "    </tr>\n",
       "    <tr>\n",
       "      <th>5367</th>\n",
       "      <td>I162101528</td>\n",
       "      <td>413</td>\n",
       "      <td>Aggravated Assault</td>\n",
       "      <td>ASSAULT - AGGRAVATED - BATTERY</td>\n",
       "      <td>B2</td>\n",
       "      <td>183.0</td>\n",
       "      <td>Y</td>\n",
       "      <td>42717.53125</td>\n",
       "      <td>2016</td>\n",
       "      <td>12</td>\n",
       "      <td>Tuesday</td>\n",
       "      <td>12</td>\n",
       "      <td>Part One</td>\n",
       "      <td>CLIFTON ST</td>\n",
       "      <td>(42.32095643, -71.06992610)</td>\n",
       "    </tr>\n",
       "    <tr>\n",
       "      <th>5529</th>\n",
       "      <td>I162101338</td>\n",
       "      <td>413</td>\n",
       "      <td>Aggravated Assault</td>\n",
       "      <td>ASSAULT - AGGRAVATED - BATTERY</td>\n",
       "      <td>C6</td>\n",
       "      <td>215.0</td>\n",
       "      <td>Y</td>\n",
       "      <td>42716.83542</td>\n",
       "      <td>2016</td>\n",
       "      <td>12</td>\n",
       "      <td>Monday</td>\n",
       "      <td>20</td>\n",
       "      <td>Part One</td>\n",
       "      <td>D ST</td>\n",
       "      <td>(42.33670628, -71.05330809)</td>\n",
       "    </tr>\n",
       "    <tr>\n",
       "      <th>5838</th>\n",
       "      <td>I162101004</td>\n",
       "      <td>3125</td>\n",
       "      <td>Warrant Arrests</td>\n",
       "      <td>WARRANT ARREST</td>\n",
       "      <td>B2</td>\n",
       "      <td>605.0</td>\n",
       "      <td>Y</td>\n",
       "      <td>42715.67569</td>\n",
       "      <td>2016</td>\n",
       "      <td>12</td>\n",
       "      <td>Sunday</td>\n",
       "      <td>16</td>\n",
       "      <td>Part Three</td>\n",
       "      <td>SUNSET ST</td>\n",
       "      <td>(42.33110131, -71.10870352)</td>\n",
       "    </tr>\n",
       "    <tr>\n",
       "      <th>5840</th>\n",
       "      <td>I162101004</td>\n",
       "      <td>413</td>\n",
       "      <td>Aggravated Assault</td>\n",
       "      <td>ASSAULT - AGGRAVATED - BATTERY</td>\n",
       "      <td>B2</td>\n",
       "      <td>605.0</td>\n",
       "      <td>Y</td>\n",
       "      <td>42715.67569</td>\n",
       "      <td>2016</td>\n",
       "      <td>12</td>\n",
       "      <td>Sunday</td>\n",
       "      <td>16</td>\n",
       "      <td>Part One</td>\n",
       "      <td>SUNSET ST</td>\n",
       "      <td>(42.33110131, -71.10870352)</td>\n",
       "    </tr>\n",
       "  </tbody>\n",
       "</table>\n",
       "</div>"
      ],
      "text/plain": [
       "     INCIDENT_NUMBER  OFFENSE_CODE      OFFENSE_CODE_GROUP  \\\n",
       "3602      I162103452          3502  Missing Person Located   \n",
       "5367      I162101528           413      Aggravated Assault   \n",
       "5529      I162101338           413      Aggravated Assault   \n",
       "5838      I162101004          3125         Warrant Arrests   \n",
       "5840      I162101004           413      Aggravated Assault   \n",
       "\n",
       "                 OFFENSE_DESCRIPTION DISTRICT REPORTING_AREA SHOOTING  \\\n",
       "3602        MISSING PERSON - LOCATED       E5          697.0      N/A   \n",
       "5367  ASSAULT - AGGRAVATED - BATTERY       B2          183.0        Y   \n",
       "5529  ASSAULT - AGGRAVATED - BATTERY       C6          215.0        Y   \n",
       "5838                  WARRANT ARREST       B2          605.0        Y   \n",
       "5840  ASSAULT - AGGRAVATED - BATTERY       B2          605.0        Y   \n",
       "\n",
       "     OCCURRED_ON_DATE  YEAR  MONTH DAY_OF_WEEK  HOUR    UCR_PART      STREET  \\\n",
       "3602         42724.25  2016     12     Tuesday     6  Part Three  KENNETH ST   \n",
       "5367      42717.53125  2016     12     Tuesday    12    Part One  CLIFTON ST   \n",
       "5529      42716.83542  2016     12      Monday    20    Part One        D ST   \n",
       "5838      42715.67569  2016     12      Sunday    16  Part Three   SUNSET ST   \n",
       "5840      42715.67569  2016     12      Sunday    16    Part One   SUNSET ST   \n",
       "\n",
       "                         Location  \n",
       "3602  (42.28523631, -71.14886058)  \n",
       "5367  (42.32095643, -71.06992610)  \n",
       "5529  (42.33670628, -71.05330809)  \n",
       "5838  (42.33110131, -71.10870352)  \n",
       "5840  (42.33110131, -71.10870352)  "
      ]
     },
     "execution_count": 39,
     "metadata": {},
     "output_type": "execute_result"
    }
   ],
   "source": [
    "dup_row.head()"
   ]
  },
  {
   "cell_type": "code",
   "execution_count": 40,
   "id": "fd763bcc",
   "metadata": {},
   "outputs": [
    {
     "name": "stdout",
     "output_type": "stream",
     "text": [
      "<class 'pandas.core.frame.DataFrame'>\n",
      "RangeIndex: 450984 entries, 0 to 450983\n",
      "Data columns (total 15 columns):\n",
      " #   Column               Non-Null Count   Dtype \n",
      "---  ------               --------------   ----- \n",
      " 0   INCIDENT_NUMBER      450984 non-null  object\n",
      " 1   OFFENSE_CODE         450984 non-null  int64 \n",
      " 2   OFFENSE_CODE_GROUP   450984 non-null  object\n",
      " 3   OFFENSE_DESCRIPTION  450984 non-null  object\n",
      " 4   DISTRICT             450984 non-null  object\n",
      " 5   REPORTING_AREA       450984 non-null  object\n",
      " 6   SHOOTING             450984 non-null  object\n",
      " 7   OCCURRED_ON_DATE     450984 non-null  object\n",
      " 8   YEAR                 450984 non-null  int64 \n",
      " 9   MONTH                450984 non-null  int64 \n",
      " 10  DAY_OF_WEEK          450984 non-null  object\n",
      " 11  HOUR                 450984 non-null  int64 \n",
      " 12  UCR_PART             450984 non-null  object\n",
      " 13  STREET               450984 non-null  object\n",
      " 14  Location             450984 non-null  object\n",
      "dtypes: int64(4), object(11)\n",
      "memory usage: 51.6+ MB\n"
     ]
    }
   ],
   "source": [
    "df.info()"
   ]
  },
  {
   "cell_type": "code",
   "execution_count": 41,
   "id": "c34f110b",
   "metadata": {},
   "outputs": [],
   "source": [
    "#to save file\n",
    "df.to_csv('Boston_Cleaned.csv', index=False)"
   ]
  },
  {
   "cell_type": "markdown",
   "id": "3923fb1f",
   "metadata": {},
   "source": [
    "#  Analysis of crime\n",
    "\n",
    "### 1.Types of Crimes in data\n",
    "\n",
    "### To make it easy to show, only asked to return the first ten results."
   ]
  },
  {
   "cell_type": "code",
   "execution_count": 43,
   "id": "c7863ba3",
   "metadata": {},
   "outputs": [
    {
     "data": {
      "text/plain": [
       "Motor Vehicle Accident Response    35237\n",
       "Larceny                            23876\n",
       "Medical Assistance                 23065\n",
       "Investigate Person                 17908\n",
       "Other                              16477\n",
       "Simple Assault                     14911\n",
       "Drug Violation                     14826\n",
       "Vandalism                          14160\n",
       "Verbal Disputes                    12961\n",
       "Name: OFFENSE_CODE_GROUP, dtype: int64"
      ]
     },
     "execution_count": 43,
     "metadata": {},
     "output_type": "execute_result"
    }
   ],
   "source": [
    "# Types of Crimes\n",
    "df.OFFENSE_CODE_GROUP.value_counts().iloc[1:10]"
   ]
  },
  {
   "cell_type": "code",
   "execution_count": 51,
   "id": "ba58d882",
   "metadata": {},
   "outputs": [
    {
     "data": {
      "text/plain": [
       "<AxesSubplot:>"
      ]
     },
     "execution_count": 51,
     "metadata": {},
     "output_type": "execute_result"
    },
    {
     "data": {
      "image/png": "[encoded data removed]",
      "text/plain": [
       "<Figure size 432x288 with 1 Axes>"
      ]
     },
     "metadata": {
      "needs_background": "light"
     },
     "output_type": "display_data"
    }
   ],
   "source": [
    "# the result for visualization.\n",
    "df.OFFENSE_CODE_GROUP.value_counts().iloc[1:20].sort_values().plot(kind= \"bar\", color=\"red\")"
   ]
  },
  {
   "cell_type": "code",
   "execution_count": 47,
   "id": "378d1da3",
   "metadata": {},
   "outputs": [],
   "source": [
    "# Defining a function which will consider the following crimes as individual crimes and rest of as Others:\n",
    "def topnine(row):\n",
    "    keep = [\"Motor Vehicle Accident Response\", \"Larceny\",\n",
    "            \"Medical Assistance\", \"Investigate Person\",\n",
    "            \"Drug Violation\",\n",
    "            \"Simple Assault\", \"Vandalism\",\n",
    "            \"Verbal Disputes\", \"Towed\"]\n",
    "    \n",
    "    if row not in keep:\n",
    "        \n",
    "        return \"OTHERS\"\n",
    "    else:\n",
    "        \n",
    "        return row"
   ]
  },
  {
   "cell_type": "code",
   "execution_count": 52,
   "id": "ef05d1bb",
   "metadata": {},
   "outputs": [],
   "source": [
    "df[\"New_Type\"] = df[\"OFFENSE_CODE_GROUP\"].apply(topnine)\n"
   ]
  },
  {
   "cell_type": "code",
   "execution_count": 49,
   "id": "1bc3b87a",
   "metadata": {},
   "outputs": [
    {
     "data": {
      "text/plain": [
       "New_Type\n",
       "Drug Violation                      3.287478\n",
       "Investigate Person                  3.970873\n",
       "Larceny                             5.294201\n",
       "Medical Assistance                  5.114372\n",
       "Motor Vehicle Accident Response     7.813359\n",
       "OTHERS                             62.784267\n",
       "Simple Assault                      3.306326\n",
       "Towed                               2.415385\n",
       "Vandalism                           3.139801\n",
       "Verbal Disputes                     2.873938\n",
       "Name: New_Type, dtype: float64"
      ]
     },
     "execution_count": 49,
     "metadata": {},
     "output_type": "execute_result"
    }
   ],
   "source": [
    "# Creating a dataframe returing '%' of top crime offense and others:\n",
    "\n",
    "df_offense_top = df.groupby(['New_Type'])['New_Type'].count()/len(df)*100\n",
    "\n",
    "\n",
    "df_offense_top"
   ]
  },
  {
   "cell_type": "code",
   "execution_count": 54,
   "id": "f00a1b1d",
   "metadata": {},
   "outputs": [
    {
     "data": {
      "text/plain": [
       "<AxesSubplot:title={'center':'Top Crimes-% (2015-2021)'}, ylabel='New_Type'>"
      ]
     },
     "execution_count": 54,
     "metadata": {},
     "output_type": "execute_result"
    },
    {
     "data": {
      "image/png": "[encoded data removed]",
      "text/plain": [
       "<Figure size 1440x720 with 1 Axes>"
      ]
     },
     "metadata": {},
     "output_type": "display_data"
    }
   ],
   "source": [
    "explode = [0,0.05,0,0.05,0,0.05,0,0.05,0,0.05]\n",
    "\n",
    "df_offense_top.plot.pie(autopct=\"%.1f%%\",title=\"Top Crimes-% (2015-2021)\", figsize=(20,10), explode=explode, fontsize=20)"
   ]
  },
  {
   "cell_type": "markdown",
   "id": "77ba5898",
   "metadata": {},
   "source": [
    "### **1.1 Analyzing a Specific Crime**"
   ]
  },
  {
   "cell_type": "code",
   "execution_count": 55,
   "id": "51d8ae28",
   "metadata": {},
   "outputs": [],
   "source": [
    "larceny=df[df.OFFENSE_CODE_GROUP.str.contains(\"Larceny\").fillna(False)]"
   ]
  },
  {
   "cell_type": "code",
   "execution_count": 56,
   "id": "3f2504c0",
   "metadata": {},
   "outputs": [
    {
     "data": {
      "text/plain": [
       "(33651, 16)"
      ]
     },
     "execution_count": 56,
     "metadata": {},
     "output_type": "execute_result"
    }
   ],
   "source": [
    "#    Check the size of the data “Larceny”\n",
    "larceny.shape"
   ]
  },
  {
   "cell_type": "markdown",
   "id": "3c592877",
   "metadata": {},
   "source": [
    "### Analyzing Places\n",
    "\n",
    "**want to know the data of crime incidents in different locations of Boston and, more specifically, what places in Boston are more dangerous.**\n"
   ]
  },
  {
   "cell_type": "markdown",
   "id": "42698d3c",
   "metadata": {},
   "source": [
    "\n",
    "\n",
    "**Looking at the result, we can see the locations in Boston where larceny is more likely to happen are  Boylston St and Washington St.**\n",
    "\n"
   ]
  },
  {
   "cell_type": "code",
   "execution_count": 57,
   "id": "31f17688",
   "metadata": {},
   "outputs": [
    {
     "data": {
      "text/plain": [
       "<AxesSubplot:ylabel='STREET'>"
      ]
     },
     "execution_count": 57,
     "metadata": {},
     "output_type": "execute_result"
    },
    {
     "data": {
      "image/png": "[encoded data removed]",
      "text/plain": [
       "<Figure size 432x288 with 1 Axes>"
      ]
     },
     "metadata": {
      "needs_background": "light"
     },
     "output_type": "display_data"
    }
   ],
   "source": [
    "# visualization\n",
    "larceny.groupby(\"STREET\").size().sort_values(ascending = False).head(10).sort_values().plot(kind = \"barh\")"
   ]
  },
  {
   "cell_type": "markdown",
   "id": "12374568",
   "metadata": {},
   "source": [
    "## 2. Analyzing crime comitted on the day of the week, month, year and Hour."
   ]
  },
  {
   "cell_type": "markdown",
   "id": "786f7cb2",
   "metadata": {},
   "source": [
    "### 2.1 Analyzing crime on the day of the week"
   ]
  },
  {
   "cell_type": "code",
   "execution_count": 58,
   "id": "8f3910e2",
   "metadata": {},
   "outputs": [
    {
     "data": {
      "text/plain": [
       "DAY_OF_WEEK\n",
       "Friday       15.186792\n",
       "Monday       14.377228\n",
       "Saturday     14.042405\n",
       "Sunday       12.727059\n",
       "Thursday     14.553066\n",
       "Tuesday      14.457054\n",
       "Wednesday    14.656396\n",
       "Name: DAY_OF_WEEK, dtype: float64"
      ]
     },
     "execution_count": 58,
     "metadata": {},
     "output_type": "execute_result"
    }
   ],
   "source": [
    "crime_weekly= df.groupby(['DAY_OF_WEEK'])['DAY_OF_WEEK'].count()/len(df)*100\n",
    "crime_weekly"
   ]
  },
  {
   "cell_type": "code",
   "execution_count": 59,
   "id": "45084fce",
   "metadata": {},
   "outputs": [
    {
     "data": {
      "text/plain": [
       "DAY_OF_WEEK\n",
       "Monday       14.377228\n",
       "Tuesday      14.457054\n",
       "Wednesday    14.656396\n",
       "Thursday     14.553066\n",
       "Friday       15.186792\n",
       "Saturday     14.042405\n",
       "Sunday       12.727059\n",
       "Name: DAY_OF_WEEK, dtype: float64"
      ]
     },
     "execution_count": 59,
     "metadata": {},
     "output_type": "execute_result"
    }
   ],
   "source": [
    "# but the returned DAY_OF_WEEK are not in order:\n",
    "\n",
    "sorter = ['Monday', 'Tuesday', 'Wednesday', 'Thursday', 'Friday', 'Saturday', 'Sunday']\n",
    "\n",
    "# sorting the data according to the week\n",
    "\n",
    "crime_weekly = crime_weekly[sorter]\n",
    "crime_weekly"
   ]
  },
  {
   "cell_type": "code",
   "execution_count": 60,
   "id": "f0a61d1e",
   "metadata": {},
   "outputs": [
    {
     "data": {
      "text/plain": [
       "Text(0.5, 0, 'Day of the week')"
      ]
     },
     "execution_count": 60,
     "metadata": {},
     "output_type": "execute_result"
    },
    {
     "data": {
      "image/png": "[encoded data removed]",
      "text/plain": [
       "<Figure size 864x576 with 1 Axes>"
      ]
     },
     "metadata": {
      "needs_background": "light"
     },
     "output_type": "display_data"
    }
   ],
   "source": [
    "crime_weekly.plot(legend= True, kind='bar', title='Number of crimes-Day of the week', figsize=(12,8), color='c')\n",
    "plt.ylabel('occurance rate in(%)')\n",
    "plt.xlabel('Day of the week')"
   ]
  },
  {
   "cell_type": "markdown",
   "id": "71fd891d",
   "metadata": {},
   "source": [
    "### 2.2 Analyzing crime month vise"
   ]
  },
  {
   "cell_type": "code",
   "execution_count": 61,
   "id": "f786fc38",
   "metadata": {},
   "outputs": [
    {
     "data": {
      "text/plain": [
       "<AxesSubplot:xlabel='MONTH'>"
      ]
     },
     "execution_count": 61,
     "metadata": {},
     "output_type": "execute_result"
    },
    {
     "data": {
      "image/png": "[encoded data removed]",
      "text/plain": [
       "<Figure size 432x288 with 1 Axes>"
      ]
     },
     "metadata": {
      "needs_background": "light"
     },
     "output_type": "display_data"
    }
   ],
   "source": [
    "larceny.groupby(\"MONTH\").size().plot(kind = \"bar\")"
   ]
  },
  {
   "cell_type": "markdown",
   "id": "23f64b8e",
   "metadata": {},
   "source": [
    "### 2.3 Analyzing crime commited yearly"
   ]
  },
  {
   "cell_type": "code",
   "execution_count": 62,
   "id": "47bc897d",
   "metadata": {},
   "outputs": [
    {
     "data": {
      "text/plain": [
       "YEAR\n",
       "2016    22.047345\n",
       "2017    22.470420\n",
       "2018    21.927164\n",
       "2019     4.386408\n",
       "2020    15.719848\n",
       "2021    13.448814\n",
       "Name: YEAR, dtype: float64"
      ]
     },
     "execution_count": 62,
     "metadata": {},
     "output_type": "execute_result"
    }
   ],
   "source": [
    "crime_yearly= df.groupby(['YEAR'])['YEAR'].count()/len(df)*100\n",
    "#returns the % of crime in perticular year of total crimes commited from2016 to 2021\n",
    "\n",
    "crime_yearly"
   ]
  },
  {
   "cell_type": "code",
   "execution_count": 63,
   "id": "0ccac73a",
   "metadata": {},
   "outputs": [
    {
     "data": {
      "text/plain": [
       "Text(0.5, 0, 'year')"
      ]
     },
     "execution_count": 63,
     "metadata": {},
     "output_type": "execute_result"
    },
    {
     "data": {
      "image/png": "[encoded data removed]",
      "text/plain": [
       "<Figure size 720x360 with 1 Axes>"
      ]
     },
     "metadata": {
      "needs_background": "light"
     },
     "output_type": "display_data"
    }
   ],
   "source": [
    "crime_yearly.plot(kind='bar', title='Number of crimes', figsize=(10,5), color='pink')\n",
    "plt.ylabel('occurance rate in(%)')\n",
    "plt.xlabel('year')"
   ]
  },
  {
   "cell_type": "markdown",
   "id": "86931b58",
   "metadata": {},
   "source": [
    "### 2.4 number of **larceny crime** incidents changes within a day"
   ]
  },
  {
   "cell_type": "code",
   "execution_count": 82,
   "id": "bc0c8373",
   "metadata": {},
   "outputs": [
    {
     "data": {
      "text/plain": [
       "<AxesSubplot:xlabel='HOUR'>"
      ]
     },
     "execution_count": 82,
     "metadata": {},
     "output_type": "execute_result"
    },
    {
     "data": {
      "image/png": "[encoded data removed]",
      "text/plain": [
       "<Figure size 576x396 with 1 Axes>"
      ]
     },
     "metadata": {},
     "output_type": "display_data"
    }
   ],
   "source": [
    "larceny.groupby(\"HOUR\").size().plot(kind= \"bar\") \n"
   ]
  },
  {
   "cell_type": "code",
   "execution_count": 85,
   "id": "bf21b153",
   "metadata": {},
   "outputs": [
    {
     "data": {
      "text/html": [
       "<div>\n",
       "<style scoped>\n",
       "    .dataframe tbody tr th:only-of-type {\n",
       "        vertical-align: middle;\n",
       "    }\n",
       "\n",
       "    .dataframe tbody tr th {\n",
       "        vertical-align: top;\n",
       "    }\n",
       "\n",
       "    .dataframe thead th {\n",
       "        text-align: right;\n",
       "    }\n",
       "</style>\n",
       "<table border=\"1\" class=\"dataframe\">\n",
       "  <thead>\n",
       "    <tr style=\"text-align: right;\">\n",
       "      <th>MONTH</th>\n",
       "      <th>1</th>\n",
       "      <th>2</th>\n",
       "      <th>3</th>\n",
       "      <th>4</th>\n",
       "      <th>5</th>\n",
       "      <th>6</th>\n",
       "      <th>7</th>\n",
       "      <th>8</th>\n",
       "      <th>9</th>\n",
       "      <th>10</th>\n",
       "      <th>11</th>\n",
       "      <th>12</th>\n",
       "    </tr>\n",
       "    <tr>\n",
       "      <th>HOUR</th>\n",
       "      <th></th>\n",
       "      <th></th>\n",
       "      <th></th>\n",
       "      <th></th>\n",
       "      <th></th>\n",
       "      <th></th>\n",
       "      <th></th>\n",
       "      <th></th>\n",
       "      <th></th>\n",
       "      <th></th>\n",
       "      <th></th>\n",
       "      <th></th>\n",
       "    </tr>\n",
       "  </thead>\n",
       "  <tbody>\n",
       "    <tr>\n",
       "      <th>0</th>\n",
       "      <td>39.0</td>\n",
       "      <td>45.0</td>\n",
       "      <td>39.0</td>\n",
       "      <td>49.0</td>\n",
       "      <td>43.0</td>\n",
       "      <td>50.0</td>\n",
       "      <td>40.0</td>\n",
       "      <td>40.0</td>\n",
       "      <td>42.0</td>\n",
       "      <td>44.0</td>\n",
       "      <td>35.0</td>\n",
       "      <td>42.0</td>\n",
       "    </tr>\n",
       "    <tr>\n",
       "      <th>1</th>\n",
       "      <td>17.0</td>\n",
       "      <td>19.0</td>\n",
       "      <td>18.0</td>\n",
       "      <td>14.0</td>\n",
       "      <td>19.0</td>\n",
       "      <td>22.0</td>\n",
       "      <td>20.0</td>\n",
       "      <td>19.0</td>\n",
       "      <td>18.0</td>\n",
       "      <td>15.0</td>\n",
       "      <td>17.0</td>\n",
       "      <td>16.0</td>\n",
       "    </tr>\n",
       "    <tr>\n",
       "      <th>2</th>\n",
       "      <td>14.0</td>\n",
       "      <td>11.0</td>\n",
       "      <td>5.0</td>\n",
       "      <td>13.0</td>\n",
       "      <td>15.0</td>\n",
       "      <td>15.0</td>\n",
       "      <td>10.0</td>\n",
       "      <td>15.0</td>\n",
       "      <td>16.0</td>\n",
       "      <td>18.0</td>\n",
       "      <td>13.0</td>\n",
       "      <td>20.0</td>\n",
       "    </tr>\n",
       "    <tr>\n",
       "      <th>3</th>\n",
       "      <td>5.0</td>\n",
       "      <td>8.0</td>\n",
       "      <td>6.0</td>\n",
       "      <td>5.0</td>\n",
       "      <td>8.0</td>\n",
       "      <td>14.0</td>\n",
       "      <td>10.0</td>\n",
       "      <td>11.0</td>\n",
       "      <td>11.0</td>\n",
       "      <td>3.0</td>\n",
       "      <td>6.0</td>\n",
       "      <td>5.0</td>\n",
       "    </tr>\n",
       "    <tr>\n",
       "      <th>4</th>\n",
       "      <td>6.0</td>\n",
       "      <td>4.0</td>\n",
       "      <td>5.0</td>\n",
       "      <td>4.0</td>\n",
       "      <td>18.0</td>\n",
       "      <td>6.0</td>\n",
       "      <td>4.0</td>\n",
       "      <td>7.0</td>\n",
       "      <td>7.0</td>\n",
       "      <td>7.0</td>\n",
       "      <td>7.0</td>\n",
       "      <td>9.0</td>\n",
       "    </tr>\n",
       "    <tr>\n",
       "      <th>5</th>\n",
       "      <td>4.0</td>\n",
       "      <td>7.0</td>\n",
       "      <td>NaN</td>\n",
       "      <td>6.0</td>\n",
       "      <td>7.0</td>\n",
       "      <td>4.0</td>\n",
       "      <td>14.0</td>\n",
       "      <td>9.0</td>\n",
       "      <td>9.0</td>\n",
       "      <td>5.0</td>\n",
       "      <td>8.0</td>\n",
       "      <td>8.0</td>\n",
       "    </tr>\n",
       "    <tr>\n",
       "      <th>6</th>\n",
       "      <td>8.0</td>\n",
       "      <td>6.0</td>\n",
       "      <td>14.0</td>\n",
       "      <td>8.0</td>\n",
       "      <td>12.0</td>\n",
       "      <td>12.0</td>\n",
       "      <td>16.0</td>\n",
       "      <td>14.0</td>\n",
       "      <td>14.0</td>\n",
       "      <td>12.0</td>\n",
       "      <td>10.0</td>\n",
       "      <td>10.0</td>\n",
       "    </tr>\n",
       "    <tr>\n",
       "      <th>7</th>\n",
       "      <td>28.0</td>\n",
       "      <td>18.0</td>\n",
       "      <td>11.0</td>\n",
       "      <td>18.0</td>\n",
       "      <td>33.0</td>\n",
       "      <td>27.0</td>\n",
       "      <td>29.0</td>\n",
       "      <td>33.0</td>\n",
       "      <td>25.0</td>\n",
       "      <td>27.0</td>\n",
       "      <td>31.0</td>\n",
       "      <td>21.0</td>\n",
       "    </tr>\n",
       "    <tr>\n",
       "      <th>8</th>\n",
       "      <td>31.0</td>\n",
       "      <td>24.0</td>\n",
       "      <td>36.0</td>\n",
       "      <td>33.0</td>\n",
       "      <td>38.0</td>\n",
       "      <td>35.0</td>\n",
       "      <td>40.0</td>\n",
       "      <td>44.0</td>\n",
       "      <td>38.0</td>\n",
       "      <td>44.0</td>\n",
       "      <td>40.0</td>\n",
       "      <td>31.0</td>\n",
       "    </tr>\n",
       "    <tr>\n",
       "      <th>9</th>\n",
       "      <td>28.0</td>\n",
       "      <td>26.0</td>\n",
       "      <td>33.0</td>\n",
       "      <td>42.0</td>\n",
       "      <td>37.0</td>\n",
       "      <td>36.0</td>\n",
       "      <td>40.0</td>\n",
       "      <td>44.0</td>\n",
       "      <td>45.0</td>\n",
       "      <td>51.0</td>\n",
       "      <td>44.0</td>\n",
       "      <td>34.0</td>\n",
       "    </tr>\n",
       "    <tr>\n",
       "      <th>10</th>\n",
       "      <td>45.0</td>\n",
       "      <td>25.0</td>\n",
       "      <td>50.0</td>\n",
       "      <td>42.0</td>\n",
       "      <td>38.0</td>\n",
       "      <td>43.0</td>\n",
       "      <td>49.0</td>\n",
       "      <td>57.0</td>\n",
       "      <td>52.0</td>\n",
       "      <td>54.0</td>\n",
       "      <td>53.0</td>\n",
       "      <td>31.0</td>\n",
       "    </tr>\n",
       "    <tr>\n",
       "      <th>11</th>\n",
       "      <td>44.0</td>\n",
       "      <td>40.0</td>\n",
       "      <td>42.0</td>\n",
       "      <td>47.0</td>\n",
       "      <td>62.0</td>\n",
       "      <td>46.0</td>\n",
       "      <td>67.0</td>\n",
       "      <td>50.0</td>\n",
       "      <td>60.0</td>\n",
       "      <td>59.0</td>\n",
       "      <td>55.0</td>\n",
       "      <td>49.0</td>\n",
       "    </tr>\n",
       "    <tr>\n",
       "      <th>12</th>\n",
       "      <td>47.0</td>\n",
       "      <td>53.0</td>\n",
       "      <td>45.0</td>\n",
       "      <td>52.0</td>\n",
       "      <td>61.0</td>\n",
       "      <td>80.0</td>\n",
       "      <td>85.0</td>\n",
       "      <td>65.0</td>\n",
       "      <td>48.0</td>\n",
       "      <td>54.0</td>\n",
       "      <td>66.0</td>\n",
       "      <td>59.0</td>\n",
       "    </tr>\n",
       "    <tr>\n",
       "      <th>13</th>\n",
       "      <td>45.0</td>\n",
       "      <td>47.0</td>\n",
       "      <td>54.0</td>\n",
       "      <td>49.0</td>\n",
       "      <td>58.0</td>\n",
       "      <td>62.0</td>\n",
       "      <td>69.0</td>\n",
       "      <td>64.0</td>\n",
       "      <td>53.0</td>\n",
       "      <td>61.0</td>\n",
       "      <td>54.0</td>\n",
       "      <td>69.0</td>\n",
       "    </tr>\n",
       "    <tr>\n",
       "      <th>14</th>\n",
       "      <td>57.0</td>\n",
       "      <td>49.0</td>\n",
       "      <td>47.0</td>\n",
       "      <td>51.0</td>\n",
       "      <td>60.0</td>\n",
       "      <td>69.0</td>\n",
       "      <td>67.0</td>\n",
       "      <td>67.0</td>\n",
       "      <td>63.0</td>\n",
       "      <td>59.0</td>\n",
       "      <td>62.0</td>\n",
       "      <td>72.0</td>\n",
       "    </tr>\n",
       "    <tr>\n",
       "      <th>15</th>\n",
       "      <td>62.0</td>\n",
       "      <td>46.0</td>\n",
       "      <td>43.0</td>\n",
       "      <td>57.0</td>\n",
       "      <td>62.0</td>\n",
       "      <td>48.0</td>\n",
       "      <td>66.0</td>\n",
       "      <td>68.0</td>\n",
       "      <td>55.0</td>\n",
       "      <td>70.0</td>\n",
       "      <td>56.0</td>\n",
       "      <td>59.0</td>\n",
       "    </tr>\n",
       "    <tr>\n",
       "      <th>16</th>\n",
       "      <td>71.0</td>\n",
       "      <td>52.0</td>\n",
       "      <td>50.0</td>\n",
       "      <td>67.0</td>\n",
       "      <td>57.0</td>\n",
       "      <td>68.0</td>\n",
       "      <td>65.0</td>\n",
       "      <td>69.0</td>\n",
       "      <td>57.0</td>\n",
       "      <td>71.0</td>\n",
       "      <td>70.0</td>\n",
       "      <td>58.0</td>\n",
       "    </tr>\n",
       "    <tr>\n",
       "      <th>17</th>\n",
       "      <td>66.0</td>\n",
       "      <td>39.0</td>\n",
       "      <td>65.0</td>\n",
       "      <td>58.0</td>\n",
       "      <td>59.0</td>\n",
       "      <td>62.0</td>\n",
       "      <td>78.0</td>\n",
       "      <td>84.0</td>\n",
       "      <td>77.0</td>\n",
       "      <td>74.0</td>\n",
       "      <td>61.0</td>\n",
       "      <td>92.0</td>\n",
       "    </tr>\n",
       "    <tr>\n",
       "      <th>18</th>\n",
       "      <td>47.0</td>\n",
       "      <td>38.0</td>\n",
       "      <td>57.0</td>\n",
       "      <td>62.0</td>\n",
       "      <td>52.0</td>\n",
       "      <td>81.0</td>\n",
       "      <td>88.0</td>\n",
       "      <td>76.0</td>\n",
       "      <td>82.0</td>\n",
       "      <td>61.0</td>\n",
       "      <td>70.0</td>\n",
       "      <td>65.0</td>\n",
       "    </tr>\n",
       "    <tr>\n",
       "      <th>19</th>\n",
       "      <td>55.0</td>\n",
       "      <td>44.0</td>\n",
       "      <td>43.0</td>\n",
       "      <td>48.0</td>\n",
       "      <td>59.0</td>\n",
       "      <td>58.0</td>\n",
       "      <td>53.0</td>\n",
       "      <td>90.0</td>\n",
       "      <td>53.0</td>\n",
       "      <td>60.0</td>\n",
       "      <td>50.0</td>\n",
       "      <td>61.0</td>\n",
       "    </tr>\n",
       "    <tr>\n",
       "      <th>20</th>\n",
       "      <td>49.0</td>\n",
       "      <td>42.0</td>\n",
       "      <td>42.0</td>\n",
       "      <td>40.0</td>\n",
       "      <td>52.0</td>\n",
       "      <td>48.0</td>\n",
       "      <td>77.0</td>\n",
       "      <td>74.0</td>\n",
       "      <td>37.0</td>\n",
       "      <td>44.0</td>\n",
       "      <td>38.0</td>\n",
       "      <td>37.0</td>\n",
       "    </tr>\n",
       "    <tr>\n",
       "      <th>21</th>\n",
       "      <td>42.0</td>\n",
       "      <td>33.0</td>\n",
       "      <td>35.0</td>\n",
       "      <td>27.0</td>\n",
       "      <td>43.0</td>\n",
       "      <td>38.0</td>\n",
       "      <td>44.0</td>\n",
       "      <td>58.0</td>\n",
       "      <td>43.0</td>\n",
       "      <td>36.0</td>\n",
       "      <td>35.0</td>\n",
       "      <td>34.0</td>\n",
       "    </tr>\n",
       "    <tr>\n",
       "      <th>22</th>\n",
       "      <td>25.0</td>\n",
       "      <td>25.0</td>\n",
       "      <td>20.0</td>\n",
       "      <td>24.0</td>\n",
       "      <td>33.0</td>\n",
       "      <td>32.0</td>\n",
       "      <td>39.0</td>\n",
       "      <td>32.0</td>\n",
       "      <td>34.0</td>\n",
       "      <td>35.0</td>\n",
       "      <td>35.0</td>\n",
       "      <td>23.0</td>\n",
       "    </tr>\n",
       "    <tr>\n",
       "      <th>23</th>\n",
       "      <td>24.0</td>\n",
       "      <td>16.0</td>\n",
       "      <td>21.0</td>\n",
       "      <td>20.0</td>\n",
       "      <td>27.0</td>\n",
       "      <td>26.0</td>\n",
       "      <td>30.0</td>\n",
       "      <td>27.0</td>\n",
       "      <td>27.0</td>\n",
       "      <td>32.0</td>\n",
       "      <td>23.0</td>\n",
       "      <td>29.0</td>\n",
       "    </tr>\n",
       "  </tbody>\n",
       "</table>\n",
       "</div>"
      ],
      "text/plain": [
       "MONTH    1     2     3     4     5     6     7     8     9     10    11    12\n",
       "HOUR                                                                         \n",
       "0      39.0  45.0  39.0  49.0  43.0  50.0  40.0  40.0  42.0  44.0  35.0  42.0\n",
       "1      17.0  19.0  18.0  14.0  19.0  22.0  20.0  19.0  18.0  15.0  17.0  16.0\n",
       "2      14.0  11.0   5.0  13.0  15.0  15.0  10.0  15.0  16.0  18.0  13.0  20.0\n",
       "3       5.0   8.0   6.0   5.0   8.0  14.0  10.0  11.0  11.0   3.0   6.0   5.0\n",
       "4       6.0   4.0   5.0   4.0  18.0   6.0   4.0   7.0   7.0   7.0   7.0   9.0\n",
       "5       4.0   7.0   NaN   6.0   7.0   4.0  14.0   9.0   9.0   5.0   8.0   8.0\n",
       "6       8.0   6.0  14.0   8.0  12.0  12.0  16.0  14.0  14.0  12.0  10.0  10.0\n",
       "7      28.0  18.0  11.0  18.0  33.0  27.0  29.0  33.0  25.0  27.0  31.0  21.0\n",
       "8      31.0  24.0  36.0  33.0  38.0  35.0  40.0  44.0  38.0  44.0  40.0  31.0\n",
       "9      28.0  26.0  33.0  42.0  37.0  36.0  40.0  44.0  45.0  51.0  44.0  34.0\n",
       "10     45.0  25.0  50.0  42.0  38.0  43.0  49.0  57.0  52.0  54.0  53.0  31.0\n",
       "11     44.0  40.0  42.0  47.0  62.0  46.0  67.0  50.0  60.0  59.0  55.0  49.0\n",
       "12     47.0  53.0  45.0  52.0  61.0  80.0  85.0  65.0  48.0  54.0  66.0  59.0\n",
       "13     45.0  47.0  54.0  49.0  58.0  62.0  69.0  64.0  53.0  61.0  54.0  69.0\n",
       "14     57.0  49.0  47.0  51.0  60.0  69.0  67.0  67.0  63.0  59.0  62.0  72.0\n",
       "15     62.0  46.0  43.0  57.0  62.0  48.0  66.0  68.0  55.0  70.0  56.0  59.0\n",
       "16     71.0  52.0  50.0  67.0  57.0  68.0  65.0  69.0  57.0  71.0  70.0  58.0\n",
       "17     66.0  39.0  65.0  58.0  59.0  62.0  78.0  84.0  77.0  74.0  61.0  92.0\n",
       "18     47.0  38.0  57.0  62.0  52.0  81.0  88.0  76.0  82.0  61.0  70.0  65.0\n",
       "19     55.0  44.0  43.0  48.0  59.0  58.0  53.0  90.0  53.0  60.0  50.0  61.0\n",
       "20     49.0  42.0  42.0  40.0  52.0  48.0  77.0  74.0  37.0  44.0  38.0  37.0\n",
       "21     42.0  33.0  35.0  27.0  43.0  38.0  44.0  58.0  43.0  36.0  35.0  34.0\n",
       "22     25.0  25.0  20.0  24.0  33.0  32.0  39.0  32.0  34.0  35.0  35.0  23.0\n",
       "23     24.0  16.0  21.0  20.0  27.0  26.0  30.0  27.0  27.0  32.0  23.0  29.0"
      ]
     },
     "execution_count": 85,
     "metadata": {},
     "output_type": "execute_result"
    }
   ],
   "source": [
    "larceny[larceny.YEAR==2018].groupby(['MONTH','HOUR']).size().unstack(0)"
   ]
  },
  {
   "cell_type": "code",
   "execution_count": 65,
   "id": "96bc0afa",
   "metadata": {},
   "outputs": [
    {
     "data": {
      "text/plain": [
       "array([<AxesSubplot:title={'center':'1'}, xlabel='HOUR'>,\n",
       "       <AxesSubplot:title={'center':'2'}, xlabel='HOUR'>,\n",
       "       <AxesSubplot:title={'center':'3'}, xlabel='HOUR'>,\n",
       "       <AxesSubplot:title={'center':'4'}, xlabel='HOUR'>,\n",
       "       <AxesSubplot:title={'center':'5'}, xlabel='HOUR'>,\n",
       "       <AxesSubplot:title={'center':'6'}, xlabel='HOUR'>,\n",
       "       <AxesSubplot:title={'center':'7'}, xlabel='HOUR'>,\n",
       "       <AxesSubplot:title={'center':'8'}, xlabel='HOUR'>,\n",
       "       <AxesSubplot:title={'center':'9'}, xlabel='HOUR'>,\n",
       "       <AxesSubplot:title={'center':'10'}, xlabel='HOUR'>,\n",
       "       <AxesSubplot:title={'center':'11'}, xlabel='HOUR'>,\n",
       "       <AxesSubplot:title={'center':'12'}, xlabel='HOUR'>], dtype=object)"
      ]
     },
     "execution_count": 65,
     "metadata": {},
     "output_type": "execute_result"
    },
    {
     "data": {
      "image/png": "[encoded data removed]",
      "text/plain": [
       "<Figure size 432x2880 with 12 Axes>"
      ]
     },
     "metadata": {
      "needs_background": "light"
     },
     "output_type": "display_data"
    }
   ],
   "source": [
    "larceny[larceny.YEAR==2018].groupby(['MONTH','HOUR']).size().unstack(0).plot(subplots=True, kind = \"bar\", figsize = (6, 40))"
   ]
  },
  {
   "cell_type": "markdown",
   "id": "2d3d76d3",
   "metadata": {},
   "source": [
    "### 3. Exploring \"SHOOTING\" Data"
   ]
  },
  {
   "cell_type": "code",
   "execution_count": 66,
   "id": "4b9b94fe",
   "metadata": {},
   "outputs": [],
   "source": [
    "# creating a dataframe with no NaNs:\n",
    "\n",
    "df_shooting = df[df.SHOOTING.notnull()]"
   ]
  },
  {
   "cell_type": "code",
   "execution_count": 67,
   "id": "6aca92b6",
   "metadata": {},
   "outputs": [
    {
     "data": {
      "text/html": [
       "<div>\n",
       "<style scoped>\n",
       "    .dataframe tbody tr th:only-of-type {\n",
       "        vertical-align: middle;\n",
       "    }\n",
       "\n",
       "    .dataframe tbody tr th {\n",
       "        vertical-align: top;\n",
       "    }\n",
       "\n",
       "    .dataframe thead th {\n",
       "        text-align: right;\n",
       "    }\n",
       "</style>\n",
       "<table border=\"1\" class=\"dataframe\">\n",
       "  <thead>\n",
       "    <tr style=\"text-align: right;\">\n",
       "      <th></th>\n",
       "      <th>INCIDENT_NUMBER</th>\n",
       "      <th>OFFENSE_CODE</th>\n",
       "      <th>OFFENSE_CODE_GROUP</th>\n",
       "      <th>OFFENSE_DESCRIPTION</th>\n",
       "      <th>DISTRICT</th>\n",
       "      <th>REPORTING_AREA</th>\n",
       "      <th>SHOOTING</th>\n",
       "      <th>OCCURRED_ON_DATE</th>\n",
       "      <th>YEAR</th>\n",
       "      <th>MONTH</th>\n",
       "      <th>DAY_OF_WEEK</th>\n",
       "      <th>HOUR</th>\n",
       "      <th>UCR_PART</th>\n",
       "      <th>STREET</th>\n",
       "      <th>Location</th>\n",
       "      <th>New_Type</th>\n",
       "    </tr>\n",
       "  </thead>\n",
       "  <tbody>\n",
       "    <tr>\n",
       "      <th>0</th>\n",
       "      <td>I192074738</td>\n",
       "      <td>2629</td>\n",
       "      <td>Harassment</td>\n",
       "      <td>HARASSMENT</td>\n",
       "      <td>C11</td>\n",
       "      <td>240.0</td>\n",
       "      <td>N/A</td>\n",
       "      <td>42614</td>\n",
       "      <td>2016</td>\n",
       "      <td>9</td>\n",
       "      <td>Thursday</td>\n",
       "      <td>0</td>\n",
       "      <td>Part Two</td>\n",
       "      <td>CONRAD ST</td>\n",
       "      <td>(42.31872369, -71.06200077)</td>\n",
       "      <td>OTHERS</td>\n",
       "    </tr>\n",
       "    <tr>\n",
       "      <th>1</th>\n",
       "      <td>I192073288</td>\n",
       "      <td>802</td>\n",
       "      <td>Simple Assault</td>\n",
       "      <td>ASSAULT SIMPLE - BATTERY</td>\n",
       "      <td>D14</td>\n",
       "      <td>760.0</td>\n",
       "      <td>N/A</td>\n",
       "      <td>42614.375</td>\n",
       "      <td>2016</td>\n",
       "      <td>9</td>\n",
       "      <td>Thursday</td>\n",
       "      <td>9</td>\n",
       "      <td>Part Two</td>\n",
       "      <td>BEECHCROFT ST</td>\n",
       "      <td>(42.35167293, -71.16115206)</td>\n",
       "      <td>Simple Assault</td>\n",
       "    </tr>\n",
       "    <tr>\n",
       "      <th>2</th>\n",
       "      <td>I192071326</td>\n",
       "      <td>619</td>\n",
       "      <td>Larceny</td>\n",
       "      <td>LARCENY ALL OTHERS</td>\n",
       "      <td>A1</td>\n",
       "      <td>113.0</td>\n",
       "      <td>N/A</td>\n",
       "      <td>42584</td>\n",
       "      <td>2016</td>\n",
       "      <td>8</td>\n",
       "      <td>Tuesday</td>\n",
       "      <td>0</td>\n",
       "      <td>Part One</td>\n",
       "      <td>HIGH ST</td>\n",
       "      <td>(42.35344834, -71.05658072)</td>\n",
       "      <td>Larceny</td>\n",
       "    </tr>\n",
       "    <tr>\n",
       "      <th>3</th>\n",
       "      <td>I192071326</td>\n",
       "      <td>1102</td>\n",
       "      <td>Fraud</td>\n",
       "      <td>FRAUD - FALSE PRETENSE / SCHEME</td>\n",
       "      <td>A1</td>\n",
       "      <td>113.0</td>\n",
       "      <td>N/A</td>\n",
       "      <td>42584</td>\n",
       "      <td>2016</td>\n",
       "      <td>8</td>\n",
       "      <td>Tuesday</td>\n",
       "      <td>0</td>\n",
       "      <td>Part Two</td>\n",
       "      <td>HIGH ST</td>\n",
       "      <td>(42.35344834, -71.05658072)</td>\n",
       "      <td>OTHERS</td>\n",
       "    </tr>\n",
       "    <tr>\n",
       "      <th>4</th>\n",
       "      <td>I192071292</td>\n",
       "      <td>1107</td>\n",
       "      <td>Fraud</td>\n",
       "      <td>FRAUD - IMPERSONATION</td>\n",
       "      <td>B2</td>\n",
       "      <td>328.0</td>\n",
       "      <td>N/A</td>\n",
       "      <td>42619.54236</td>\n",
       "      <td>2016</td>\n",
       "      <td>9</td>\n",
       "      <td>Tuesday</td>\n",
       "      <td>13</td>\n",
       "      <td>Part Two</td>\n",
       "      <td>FERNBORO ST</td>\n",
       "      <td>(42.31129587, -71.07728269)</td>\n",
       "      <td>OTHERS</td>\n",
       "    </tr>\n",
       "  </tbody>\n",
       "</table>\n",
       "</div>"
      ],
      "text/plain": [
       "  INCIDENT_NUMBER  OFFENSE_CODE OFFENSE_CODE_GROUP  \\\n",
       "0      I192074738          2629         Harassment   \n",
       "1      I192073288           802     Simple Assault   \n",
       "2      I192071326           619            Larceny   \n",
       "3      I192071326          1102              Fraud   \n",
       "4      I192071292          1107              Fraud   \n",
       "\n",
       "               OFFENSE_DESCRIPTION DISTRICT REPORTING_AREA SHOOTING  \\\n",
       "0                       HARASSMENT      C11          240.0      N/A   \n",
       "1         ASSAULT SIMPLE - BATTERY      D14          760.0      N/A   \n",
       "2               LARCENY ALL OTHERS       A1          113.0      N/A   \n",
       "3  FRAUD - FALSE PRETENSE / SCHEME       A1          113.0      N/A   \n",
       "4            FRAUD - IMPERSONATION       B2          328.0      N/A   \n",
       "\n",
       "  OCCURRED_ON_DATE  YEAR  MONTH DAY_OF_WEEK  HOUR  UCR_PART         STREET  \\\n",
       "0            42614  2016      9    Thursday     0  Part Two      CONRAD ST   \n",
       "1        42614.375  2016      9    Thursday     9  Part Two  BEECHCROFT ST   \n",
       "2            42584  2016      8     Tuesday     0  Part One        HIGH ST   \n",
       "3            42584  2016      8     Tuesday     0  Part Two        HIGH ST   \n",
       "4      42619.54236  2016      9     Tuesday    13  Part Two    FERNBORO ST   \n",
       "\n",
       "                      Location        New_Type  \n",
       "0  (42.31872369, -71.06200077)          OTHERS  \n",
       "1  (42.35167293, -71.16115206)  Simple Assault  \n",
       "2  (42.35344834, -71.05658072)         Larceny  \n",
       "3  (42.35344834, -71.05658072)          OTHERS  \n",
       "4  (42.31129587, -71.07728269)          OTHERS  "
      ]
     },
     "execution_count": 67,
     "metadata": {},
     "output_type": "execute_result"
    }
   ],
   "source": [
    "df_shooting.head()"
   ]
  },
  {
   "cell_type": "markdown",
   "id": "ef79688d",
   "metadata": {},
   "source": [
    "**Analyzing Shooting happens yearly**"
   ]
  },
  {
   "cell_type": "code",
   "execution_count": 68,
   "id": "42af10ce",
   "metadata": {},
   "outputs": [
    {
     "data": {
      "text/plain": [
       "YEAR\n",
       "2016    22.047345\n",
       "2017    22.470420\n",
       "2018    21.927164\n",
       "2019     4.386408\n",
       "2020    15.719848\n",
       "2021    13.448814\n",
       "Name: YEAR, dtype: float64"
      ]
     },
     "execution_count": 68,
     "metadata": {},
     "output_type": "execute_result"
    }
   ],
   "source": [
    "shooting_yearly= df_shooting.groupby(['YEAR'])['YEAR'].count()/len(df_shooting)*100\n",
    "\n",
    "shooting_yearly"
   ]
  },
  {
   "cell_type": "code",
   "execution_count": 69,
   "id": "67433488",
   "metadata": {},
   "outputs": [
    {
     "data": {
      "text/plain": [
       "<AxesSubplot:title={'center':'Shooting - % (2016-2021)'}, ylabel='YEAR'>"
      ]
     },
     "execution_count": 69,
     "metadata": {},
     "output_type": "execute_result"
    },
    {
     "data": {
      "image/png": "[encoded data removed]",
      "text/plain": [
       "<Figure size 1440x720 with 1 Axes>"
      ]
     },
     "metadata": {},
     "output_type": "display_data"
    }
   ],
   "source": [
    "explode = [0.01,0.05,00.15,0.025,0.35,0]\n",
    "\n",
    "shooting_yearly.plot.pie(autopct=\"%.1f%%\", title=\"Shooting - % (2016-2021)\", figsize=(20,10), explode=explode)"
   ]
  },
  {
   "cell_type": "markdown",
   "id": "af557b42",
   "metadata": {},
   "source": [
    "**Analyzing shooting happens monthly**"
   ]
  },
  {
   "cell_type": "code",
   "execution_count": 70,
   "id": "0d488f53",
   "metadata": {},
   "outputs": [
    {
     "data": {
      "text/plain": [
       "MONTH\n",
       "1      7.806042\n",
       "2      7.202251\n",
       "3      7.891411\n",
       "4      7.591622\n",
       "5      8.408502\n",
       "6      8.649309\n",
       "7      8.683013\n",
       "8      8.943333\n",
       "9      8.755300\n",
       "10    10.283735\n",
       "11     8.073235\n",
       "12     7.712247\n",
       "Name: MONTH, dtype: float64"
      ]
     },
     "execution_count": 70,
     "metadata": {},
     "output_type": "execute_result"
    }
   ],
   "source": [
    "shooting_monthly= df_shooting.groupby(['MONTH'])['MONTH'].count()/len(df_shooting)*100\n",
    "shooting_monthly"
   ]
  },
  {
   "cell_type": "code",
   "execution_count": 71,
   "id": "dc01c064",
   "metadata": {},
   "outputs": [
    {
     "data": {
      "text/plain": [
       "<AxesSubplot:title={'center':'Shooting per month-% (2015-2021)'}, ylabel='MONTH'>"
      ]
     },
     "execution_count": 71,
     "metadata": {},
     "output_type": "execute_result"
    },
    {
     "data": {
      "image/png": "[encoded data removed]",
      "text/plain": [
       "<Figure size 1440x720 with 1 Axes>"
      ]
     },
     "metadata": {},
     "output_type": "display_data"
    }
   ],
   "source": [
    "explode = [0.05,0,0.05,0,0.05,0,0.05,0,0.05,0,0.05,0]\n",
    "\n",
    "shooting_monthly.plot.pie(autopct=\"%.1f%%\", title=\"Shooting per month-% (2015-2021)\", figsize=(20,10), fontsize=10, explode=explode)"
   ]
  },
  {
   "cell_type": "markdown",
   "id": "103337e7",
   "metadata": {},
   "source": [
    "### 4.Analyzing crime DISTRICT vise"
   ]
  },
  {
   "cell_type": "code",
   "execution_count": 72,
   "id": "0acbe805",
   "metadata": {},
   "outputs": [
    {
     "name": "stderr",
     "output_type": "stream",
     "text": [
      "/Users/vaishali/opt/anaconda3/lib/python3.8/site-packages/seaborn/_decorators.py:36: FutureWarning: Pass the following variable as a keyword arg: x. From version 0.12, the only valid positional argument will be `data`, and passing other arguments without an explicit keyword will result in an error or misinterpretation.\n",
      "  warnings.warn(\n"
     ]
    },
    {
     "data": {
      "image/png": "[encoded data removed]",
      "text/plain": [
       "<Figure size 1080x360 with 1 Axes>"
      ]
     },
     "metadata": {},
     "output_type": "display_data"
    }
   ],
   "source": [
    "plt.rcParams['figure.figsize'] = (15, 5)\n",
    "plt.style.use('dark_background')\n",
    "\n",
    "sns.countplot(df['DISTRICT'], palette = 'gnuplot')\n",
    "\n",
    "plt.title('Major Crimes by District', fontweight = 30, fontsize = 30)\n",
    "plt.xticks(rotation = 100)\n",
    "plt.show()"
   ]
  },
  {
   "cell_type": "markdown",
   "id": "533c7c4b",
   "metadata": {},
   "source": [
    "### 4.1 Analyzing District, which District is more dangerous "
   ]
  },
  {
   "cell_type": "code",
   "execution_count": 75,
   "id": "040018d9",
   "metadata": {},
   "outputs": [
    {
     "data": {
      "text/plain": [
       "B2          69083\n",
       "C11         59521\n",
       "D4          57933\n",
       "B3          50556\n",
       "A1          49469\n",
       "C6          33788\n",
       "D14         29190\n",
       "E18         25073\n",
       "E13         25054\n",
       "E5          19764\n",
       "A7          18597\n",
       "A15          9496\n",
       "N/A          3021\n",
       "External      439\n",
       "Name: DISTRICT, dtype: int64"
      ]
     },
     "execution_count": 75,
     "metadata": {},
     "output_type": "execute_result"
    }
   ],
   "source": [
    "df.DISTRICT.value_counts().iloc[:20]"
   ]
  },
  {
   "cell_type": "code",
   "execution_count": 73,
   "id": "de160c29",
   "metadata": {},
   "outputs": [
    {
     "data": {
      "image/png": "[encoded data removed]",
      "text/plain": [
       "<Figure size 1080x720 with 1 Axes>"
      ]
     },
     "metadata": {},
     "output_type": "display_data"
    }
   ],
   "source": [
    "plt.rcParams['figure.figsize'] = (20, 9)\n",
    "plt.style.use('seaborn')\n",
    "\n",
    "color = plt.cm.autumn(np.linspace(0, 2, 15))\n",
    "df['DISTRICT'].value_counts().plot.bar(color = color, figsize = (15, 10))\n",
    "\n",
    "plt.title('District with Most Crime',fontsize = 30)\n",
    "\n",
    "plt.xticks(rotation = 90)\n",
    "plt.show()"
   ]
  },
  {
   "cell_type": "markdown",
   "id": "b66a7e78",
   "metadata": {},
   "source": [
    "#### Here, B2,C11 and D4 is most dangeorous district where crime occures more frequently."
   ]
  },
  {
   "cell_type": "markdown",
   "id": "b7d0f29a",
   "metadata": {},
   "source": [
    "### 5. Analyzing Burglary occured on all week days"
   ]
  },
  {
   "cell_type": "code",
   "execution_count": 76,
   "id": "7b1a38f0",
   "metadata": {},
   "outputs": [
    {
     "data": {
      "text/plain": [
       "<AxesSubplot:xlabel='DAY_OF_WEEK', ylabel='count'>"
      ]
     },
     "execution_count": 76,
     "metadata": {},
     "output_type": "execute_result"
    },
    {
     "data": {
      "image/png": "[encoded data removed]",
      "text/plain": [
       "<Figure size 576x396 with 1 Axes>"
      ]
     },
     "metadata": {},
     "output_type": "display_data"
    }
   ],
   "source": [
    "#Number of crimes on Robbery/Burglary occured on all week days\n",
    "\n",
    "robbery=df[df['OFFENSE_CODE_GROUP'].str.contains(\"Robbery|BURGLARY\", na=False,case=False)].groupby(['DAY_OF_WEEK']).size().reset_index(name='count')\n",
    "sns.barplot(x = \"DAY_OF_WEEK\",y= \"count\", data=robbery)"
   ]
  },
  {
   "cell_type": "markdown",
   "id": "72a88689",
   "metadata": {},
   "source": [
    "### 6.Analyzing which period of time in the day is more safe/Dangeorous .\n",
    "\n",
    "#### splitting the day into 'midnight','morning','afternoon','evening'"
   ]
  },
  {
   "cell_type": "code",
   "execution_count": 78,
   "id": "0101e74b",
   "metadata": {},
   "outputs": [
    {
     "data": {
      "text/plain": [
       "0          MIDNIGHT\n",
       "1           MORNING\n",
       "2          MIDNIGHT\n",
       "3          MIDNIGHT\n",
       "4         AFTERNOON\n",
       "            ...    \n",
       "450979      MORNING\n",
       "450980     MIDNIGHT\n",
       "450981      MORNING\n",
       "450982    AFTERNOON\n",
       "450983     MIDNIGHT\n",
       "Name: period, Length: 450984, dtype: category\n",
       "Categories (4, object): ['MIDNIGHT' < 'MORNING' < 'AFTERNOON' < 'EVENING']"
      ]
     },
     "execution_count": 78,
     "metadata": {},
     "output_type": "execute_result"
    }
   ],
   "source": [
    "df['period']= pd.cut( df.HOUR,[0,6,12,18,23],labels=['MIDNIGHT','MORNING','AFTERNOON','EVENING'],include_lowest=True)\n",
    "df['period']"
   ]
  },
  {
   "cell_type": "markdown",
   "id": "6b18b1fb",
   "metadata": {},
   "source": [
    "### 6.1 find out the maximum number of shootings happening in a particular period."
   ]
  },
  {
   "cell_type": "code",
   "execution_count": 79,
   "id": "e8d0b903",
   "metadata": {},
   "outputs": [],
   "source": [
    "shooting=df.loc[df['SHOOTING']=='Y'].groupby('period').size().reset_index(name='count')"
   ]
  },
  {
   "cell_type": "code",
   "execution_count": 80,
   "id": "c1d981c6",
   "metadata": {},
   "outputs": [
    {
     "data": {
      "text/plain": [
       "<AxesSubplot:xlabel='period', ylabel='count'>"
      ]
     },
     "execution_count": 80,
     "metadata": {},
     "output_type": "execute_result"
    },
    {
     "data": {
      "image/png": "[encoded data removed]",
      "text/plain": [
       "<Figure size 576x396 with 1 Axes>"
      ]
     },
     "metadata": {},
     "output_type": "display_data"
    }
   ],
   "source": [
    "sns.barplot(x =\"period\",y= \"count\", data=shooting)"
   ]
  },
  {
   "cell_type": "markdown",
   "id": "a732e10a",
   "metadata": {},
   "source": [
    "####  we can see from the graph that most shooting occured in the evening time in past years."
   ]
  },
  {
   "cell_type": "markdown",
   "id": "0ed5453e",
   "metadata": {},
   "source": [
    "### 7. Analyzing in between which hour/time crime occured most."
   ]
  },
  {
   "cell_type": "code",
   "execution_count": 81,
   "id": "4c288a00",
   "metadata": {},
   "outputs": [
    {
     "name": "stderr",
     "output_type": "stream",
     "text": [
      "/Users/vaishali/opt/anaconda3/lib/python3.8/site-packages/seaborn/_decorators.py:36: FutureWarning: Pass the following variable as a keyword arg: x. From version 0.12, the only valid positional argument will be `data`, and passing other arguments without an explicit keyword will result in an error or misinterpretation.\n",
      "  warnings.warn(\n"
     ]
    },
    {
     "data": {
      "text/plain": [
       "<AxesSubplot:xlabel='HOUR', ylabel='count'>"
      ]
     },
     "execution_count": 81,
     "metadata": {},
     "output_type": "execute_result"
    },
    {
     "data": {
      "image/png": "[encoded data removed]",
      "text/plain": [
       "<Figure size 576x396 with 1 Axes>"
      ]
     },
     "metadata": {},
     "output_type": "display_data"
    }
   ],
   "source": [
    "sns.countplot('HOUR',data= df)"
   ]
  },
  {
   "cell_type": "markdown",
   "id": "e8432712",
   "metadata": {},
   "source": [
    "#### We can see that, In the evening most crime occured at 5:00 PM,4:00 PM and 6:00 PM."
   ]
  },
  {
   "cell_type": "code",
   "execution_count": null,
   "id": "5521ddef",
   "metadata": {},
   "outputs": [],
   "source": []
  }
 ],
 "metadata": {
  "kernelspec": {
   "display_name": "Python 3",
   "language": "python",
   "name": "python3"
  },
  "language_info": {
   "codemirror_mode": {
    "name": "ipython",
    "version": 3
   },
   "file_extension": ".py",
   "mimetype": "text/x-python",
   "name": "python",
   "nbconvert_exporter": "python",
   "pygments_lexer": "ipython3",
   "version": "3.8.8"
  }
 },
 "nbformat": 4,
 "nbformat_minor": 5
}
